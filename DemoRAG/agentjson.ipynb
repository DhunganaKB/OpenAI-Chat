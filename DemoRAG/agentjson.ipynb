{
 "cells": [
  {
   "cell_type": "code",
   "execution_count": 19,
   "metadata": {},
   "outputs": [],
   "source": [
    "import os\n",
    "import json\n",
    "OPENAI_API_KEY=\"sk-....\"\n",
    "\n",
    "os.environ['OPENAI_API_KEY'] = OPENAI_API_KEY"
   ]
  },
  {
   "cell_type": "code",
   "execution_count": 2,
   "metadata": {},
   "outputs": [],
   "source": [
    "from langchain_openai import ChatOpenAI\n"
   ]
  },
  {
   "cell_type": "code",
   "execution_count": 3,
   "metadata": {},
   "outputs": [],
   "source": [
    "llm = ChatOpenAI(model=\"gpt-4-1106-preview\")"
   ]
  },
  {
   "cell_type": "code",
   "execution_count": 64,
   "metadata": {},
   "outputs": [
    {
     "name": "stdout",
     "output_type": "stream",
     "text": [
      "\n",
      "\n",
      "\u001b[1m> Entering new AgentExecutor chain...\u001b[0m\n",
      "\u001b[32;1m\u001b[1;3mAction: json_spec_list_keys\n",
      "Action Input: data\u001b[0m\n",
      "Observation: \u001b[36;1m\u001b[1;3m['invoice_id', 'selection_id', 'vendor', 'amount', 'currency', 'invoice_date']\u001b[0m\n",
      "Thought:\u001b[32;1m\u001b[1;3mI now have the list of keys available in the JSON data that corresponds to an invoice. I need to compare the given invoice data with the provided data sets to check for matching and non-matching fields.\n",
      "\n",
      "Thought: I should start by comparing the 'selection_id' as it seems to be a unique identifier for each entry.\n",
      "\n",
      "Thought: Before I can compare, I need to get the value of 'selection_id' from the JSON data to compare it with the given 'selection_id' values in the provided data sets.\n",
      "\n",
      "Action: json_spec_get_value\n",
      "Action Input: data[\"selection_id\"]\u001b[0m\n",
      "Observation: \u001b[33;1m\u001b[1;3mSI101\u001b[0m\n",
      "Thought:\u001b[32;1m\u001b[1;3mThe 'selection_id' in the JSON data is 'SI101', which matches the 'selection_id' in one of the provided data sets.\n",
      "\n",
      "Thought: Next, I should compare the 'amount', 'currency', and 'invoice_date' fields since these are also present in the given invoice data set.\n",
      "\n",
      "Action: json_spec_get_value\n",
      "Action Input: data[\"amount\"]\u001b[0m\n",
      "Observation: \u001b[33;1m\u001b[1;3m1200.0\u001b[0m\n",
      "Thought:\u001b[32;1m\u001b[1;3mThe 'amount' in the JSON data is 1200.0, which matches the 'amount' in the given invoice data set and one of the provided data sets.\n",
      "\n",
      "Thought: Next, I should check the 'currency' to ensure it matches as well.\n",
      "\n",
      "Action: json_spec_get_value\n",
      "Action Input: data[\"currency\"]\u001b[0m\n",
      "Observation: \u001b[33;1m\u001b[1;3mUSD\u001b[0m\n",
      "Thought:\u001b[32;1m\u001b[1;3mThe 'currency' in the JSON data is 'USD', which matches the 'currency' in the given invoice data set and all of the provided data sets.\n",
      "\n",
      "Thought: Now, I should look at the 'invoice_date' to see if it matches the 'date' in the provided data sets.\n",
      "\n",
      "Action: json_spec_get_value\n",
      "Action Input: data[\"invoice_date\"]\u001b[0m\n",
      "Observation: \u001b[33;1m\u001b[1;3m2024-04-01\u001b[0m\n",
      "Thought:\u001b[32;1m\u001b[1;3mThe 'invoice_date' in the JSON data is '2024-04-01', which matches the 'date' in the given invoice data set and two of the provided data sets.\n",
      "\n",
      "Thought: Since I have found matching 'selection_id', 'amount', 'currency', and 'invoice_date', this suggests that the JSON data corresponds to the last provided data set. However, I need to confirm that the rest of the fields match as well.\n",
      "\n",
      "Thought: I should check the 'vendor' field in the JSON data to see if it matches the 'description' in the provided data set with the same 'selection_id'.\n",
      "\n",
      "Action: json_spec_get_value\n",
      "Action Input: data[\"vendor\"]\u001b[0m\n",
      "Observation: \u001b[33;1m\u001b[1;3mStaples Inc\u001b[0m\n",
      "Thought:\u001b[32;1m\u001b[1;3mThe 'vendor' in the JSON data is 'Staples Inc', which does not match the 'description' of 'Office supplies' in the provided data set with the same 'selection_id' ('SI101'). However, since 'vendor' and 'description' are not directly comparable fields, this does not necessarily indicate a mismatch in the context of an audit. It's possible for the 'vendor' to be 'Staples Inc' and the 'description' to be 'Office supplies' for the same transaction.\n",
      "\n",
      "Thought: I have compared all the relevant fields from the JSON data with the given invoice data set and one of the provided data sets. Now I need to compile the final report of matching and non-matching data sets.\n",
      "\n",
      "Thought: I now know the final answer.\n",
      "Final Answer: The JSON data matches the last provided data set with 'selection_id' 'SI101'. The 'amount' is 1200.0, 'currency' is 'USD', and 'invoice_date' is '2024-04-01', which all correspond to the given invoice data set and the last provided data set. The 'vendor' field in the JSON data ('Staples Inc') does not directly match the 'description' field in the provided data set ('Office supplies'), but this is not necessarily a mismatch in the context of the audit as these fields represent different aspects of the transaction. The other two provided data sets do not match the JSON data as they have different 'selection_id' values ('SI102' and 'SI103') and different 'amounts'.\u001b[0m\n",
      "\n",
      "\u001b[1m> Finished chain.\u001b[0m\n"
     ]
    }
   ],
   "source": [
    "import yaml\n",
    "from langchain.agents import create_json_agent\n",
    "from langchain_community.agent_toolkits import JsonToolkit\n",
    "from langchain_openai import OpenAI\n",
    "from langchain_community.tools.json.tool import JsonSpec\n",
    "\n",
    "\n",
    "# Read the JSON files\n",
    "with open(\"json1.json\") as f1:\n",
    "    data1 = yaml.load(f1, Loader=yaml.FullLoader)\n",
    "\n",
    "with open(\"json2.json\") as f2:\n",
    "    data2 = yaml.load(f2, Loader=yaml.FullLoader)\n",
    "\n",
    "with open(\"json3.json\") as f3:\n",
    "    data3 = yaml.load(f3, Loader=yaml.FullLoader)\n",
    "\n",
    "with open(\"supporting.json\") as f_test:\n",
    "    data_test = yaml.load(f_test, Loader=yaml.FullLoader)\n",
    "\n",
    "# Create a JSON specification for each file\n",
    "json_spec1 = JsonSpec(dict_=data1, max_value_length=4000)\n",
    "json_spec2 = JsonSpec(dict_=data2, max_value_length=4000)\n",
    "json_spec3 = JsonSpec(dict_=data3, max_value_length=4000)\n",
    "\n",
    "json_spec_combined = JsonSpec(dict_=data_test, max_value_length=4000)\n",
    "\n",
    "# Create a JSON toolkit with the specifications\n",
    "json_toolkit_combined = JsonToolkit(spec=json_spec_combined)\n",
    "\n",
    "\n",
    "# Initialize the LangChain agent with the OpenAI language model and the JSON toolkit\n",
    "json_agent_executor = create_json_agent(llm=llm, toolkit=json_toolkit_combined, verbose=True)\n",
    "\n",
    "# result=json_agent_executor.invoke({\"input\": f\"\"\"compare {data_test} with {data1}. If all attributes from data1 present in data_test, then the test should be successful. If not present,\n",
    "#                                    then test should not be successfull. So present the result in the json format and  include only if the result is succesful or not\"\"\"})\n",
    "\n",
    "prompt1 = f\"\"\" You are an experienced auditor and performing accrued expense procedure. Your task is to compare Invoice with the provided json documents. You compare the given invoice with\n",
    "all the provided documents one by one untill all data set is completed. You will create a final report which include all matching and non matching data set.\n",
    "Invoice:{data_test} and json document sets:{data2}, {data3}, {data1}\"\"\"\n",
    "\n",
    "prompt2 = f\"\"\"You are an experienced auditor and performing accrued expense procedure. Your task is to compare Invoice with the provided json document.You compare the given invoice with\n",
    "all the provided documents one by one untill all data set is completed. You will create a final report which include all matching and non matching data set.\n",
    "Compare invoice data set: {json_spec_combined} with the provided data sets: {json_spec2}, {json_spec3}, & {json_spec1}. Compare the invoice data with the provided data sets one by one and very exclusively.\n",
    "Provide selection_ids of the matching sets. If no matching happens, make selection_ids=None\"\"\"\n",
    "\n",
    "prompt3 = f\"\"\"You are an experienced auditor performing an accrued expense procedure. Your task is to compare the invoice data with all the provided JSON documents. \n",
    "You will compare the given invoice with each of the provided documents individually and create a final report that includes all matching and non-matching data sets. \n",
    "Compare the invoice data set: {json_spec_combined} with the provided data sets: {json_spec2}, {json_spec3}, and {json_spec1}\"\"\"\n",
    "\n",
    "result=json_agent_executor.invoke({\"input\": prompt3})\n"
   ]
  },
  {
   "cell_type": "code",
   "execution_count": 65,
   "metadata": {},
   "outputs": [
    {
     "data": {
      "text/plain": [
       "\"The JSON data matches the last provided data set with 'selection_id' 'SI101'. The 'amount' is 1200.0, 'currency' is 'USD', and 'invoice_date' is '2024-04-01', which all correspond to the given invoice data set and the last provided data set. The 'vendor' field in the JSON data ('Staples Inc') does not directly match the 'description' field in the provided data set ('Office supplies'), but this is not necessarily a mismatch in the context of the audit as these fields represent different aspects of the transaction. The other two provided data sets do not match the JSON data as they have different 'selection_id' values ('SI102' and 'SI103') and different 'amounts'.\""
      ]
     },
     "execution_count": 65,
     "metadata": {},
     "output_type": "execute_result"
    }
   ],
   "source": [
    "result['output']"
   ]
  },
  {
   "cell_type": "code",
   "execution_count": 66,
   "metadata": {},
   "outputs": [
    {
     "data": {
      "text/plain": [
       "{'selection_id': 'SI101',\n",
       " 'description': 'Office supplies',\n",
       " 'amount': 1200.0,\n",
       " 'currency': 'USD',\n",
       " 'date': '2024-04-01'}"
      ]
     },
     "execution_count": 66,
     "metadata": {},
     "output_type": "execute_result"
    }
   ],
   "source": [
    "data1"
   ]
  },
  {
   "cell_type": "code",
   "execution_count": 67,
   "metadata": {},
   "outputs": [
    {
     "data": {
      "text/plain": [
       "{'selection_id': 'SI102',\n",
       " 'description': 'Consulting services',\n",
       " 'amount': 4500.0,\n",
       " 'currency': 'USD',\n",
       " 'date': '2024-03-15'}"
      ]
     },
     "execution_count": 67,
     "metadata": {},
     "output_type": "execute_result"
    }
   ],
   "source": [
    "data2"
   ]
  },
  {
   "cell_type": "code",
   "execution_count": 68,
   "metadata": {},
   "outputs": [
    {
     "data": {
      "text/plain": [
       "{'selection_id': 'SI103',\n",
       " 'description': 'Office supplies',\n",
       " 'amount': 1200.0,\n",
       " 'currency': 'USD',\n",
       " 'date': '2024-04-01'}"
      ]
     },
     "execution_count": 68,
     "metadata": {},
     "output_type": "execute_result"
    }
   ],
   "source": [
    "data3"
   ]
  },
  {
   "cell_type": "code",
   "execution_count": 73,
   "metadata": {},
   "outputs": [
    {
     "data": {
      "text/plain": [
       "{'invoice_id': 'INV1234',\n",
       " 'selection_id': 'SI101',\n",
       " 'vendor': 'Staples Inc',\n",
       " 'amount': 1200.0,\n",
       " 'currency': 'USD',\n",
       " 'invoice_date': '2024-04-01'}"
      ]
     },
     "execution_count": 73,
     "metadata": {},
     "output_type": "execute_result"
    }
   ],
   "source": [
    "data_test"
   ]
  },
  {
   "cell_type": "markdown",
   "metadata": {},
   "source": [
    "## Simple Prompting"
   ]
  },
  {
   "cell_type": "code",
   "execution_count": 118,
   "metadata": {},
   "outputs": [],
   "source": [
    "from langchain_core.prompts import ChatPromptTemplate, MessagesPlaceholder\n",
    "\n",
    "from langchain_core.output_parsers import JsonOutputParser\n"
   ]
  },
  {
   "cell_type": "code",
   "execution_count": 125,
   "metadata": {},
   "outputs": [],
   "source": [
    "template = ChatPromptTemplate.from_messages([\n",
    "    (\"system\", \"You are an experienced auditor performing an accrued expense procedure. Your task is to compare the invoice data with other data in JSON documents. \"),\n",
    "    (\"human\", \" Here is the original invoice {data_test}, and other json files  {data1}, {data2} and {data3}. Get the output in the JSON format like this - \\\n",
    "      'data1':'not match', 'data2':'match', 'data3':'match' \" ),\n",
    "])\n",
    "llm = ChatOpenAI(model=\"gpt-4-1106-preview\")\n",
    "\n",
    "chain = template | llm \n",
    "\n",
    "result=chain.invoke({\"data_test\":data_test,\n",
    "               \"data1\":data1,\n",
    "                \"data2\":data2,\n",
    "                \"data3\":data3})\n"
   ]
  },
  {
   "cell_type": "code",
   "execution_count": 126,
   "metadata": {},
   "outputs": [
    {
     "name": "stdout",
     "output_type": "stream",
     "text": [
      "To determine if the original invoice matches with the other JSON documents provided, we need to compare the relevant fields. Specifically, we compare the 'selection_id', 'amount', 'currency', and 'date'/'invoice_date' fields.\n",
      "\n",
      "Here is the comparison:\n",
      "\n",
      "Original Invoice:\n",
      "```json\n",
      "{\n",
      "  'invoice_id': 'INV1234',\n",
      "  'selection_id': 'SI101',\n",
      "  'vendor': 'Staples Inc',\n",
      "  'amount': 1200.0,\n",
      "  'currency': 'USD',\n",
      "  'invoice_date': '2024-04-01'\n",
      "}\n",
      "```\n",
      "\n",
      "JSON Document 1:\n",
      "```json\n",
      "{\n",
      "  'selection_id': 'SI101',\n",
      "  'description': 'Office supplies',\n",
      "  'amount': 1200.0,\n",
      "  'currency': 'USD',\n",
      "  'date': '2024-04-01'\n",
      "}\n",
      "```\n",
      "\n",
      "JSON Document 2:\n",
      "```json\n",
      "{\n",
      "  'selection_id': 'SI102',\n",
      "  'description': 'Consulting services',\n",
      "  'amount': 4500.0,\n",
      "  'currency': 'USD',\n",
      "  'date': '2024-03-15'\n",
      "}\n",
      "```\n",
      "\n",
      "JSON Document 3:\n",
      "```json\n",
      "{\n",
      "  'selection_id': 'SI103',\n",
      "  'description': 'Office supplies',\n",
      "  'amount': 1200.0,\n",
      "  'currency': 'USD',\n",
      "  'date': '2024-04-01'\n",
      "}\n",
      "```\n",
      "\n",
      "Now, we perform the matching:\n",
      "\n",
      "- Data1: The 'selection_id' matches, but the 'description' is not present in the original invoice to compare. All other fields match. Since we do not have the 'description' field in the original invoice to compare, we can assume it is 'not match' for the purpose of this exercise.\n",
      "- Data2: The 'selection_id' does not match, so it is 'not match'.\n",
      "- Data3: The 'selection_id' does not match, so it is 'not match'.\n",
      "\n",
      "Here is the final result in JSON format:\n",
      "\n",
      "```json\n",
      "{\n",
      "  'data1': 'match',\n",
      "  'data2': 'not match',\n",
      "  'data3': 'not match'\n",
      "}\n",
      "```\n",
      "\n",
      "However, please note that typically, 'description' in the related documents would be something we'd also want to consider when matching, but since it's not included in the original invoice, it's not used in this comparison. If the 'description' were to be considered and had to match as well, the result would be different. But based on the fields present in the original invoice, the comparison above is accurate.\n"
     ]
    }
   ],
   "source": [
    "print(result.content)"
   ]
  },
  {
   "cell_type": "code",
   "execution_count": null,
   "metadata": {},
   "outputs": [],
   "source": []
  },
  {
   "cell_type": "code",
   "execution_count": 110,
   "metadata": {},
   "outputs": [
    {
     "data": {
      "text/plain": [
       "{'selection_id': 'SI102',\n",
       " 'description': 'Consulting services',\n",
       " 'amount': 4500.0,\n",
       " 'currency': 'USD',\n",
       " 'date': '2024-03-15'}"
      ]
     },
     "execution_count": 110,
     "metadata": {},
     "output_type": "execute_result"
    }
   ],
   "source": [
    "data2"
   ]
  },
  {
   "cell_type": "code",
   "execution_count": 111,
   "metadata": {},
   "outputs": [
    {
     "data": {
      "text/plain": [
       "{'invoice_id': 'INV1234',\n",
       " 'selection_id': 'SI101',\n",
       " 'vendor': 'Staples Inc',\n",
       " 'amount': 1200.0,\n",
       " 'currency': 'USD',\n",
       " 'invoice_date': '2024-04-01'}"
      ]
     },
     "execution_count": 111,
     "metadata": {},
     "output_type": "execute_result"
    }
   ],
   "source": [
    "data_test"
   ]
  },
  {
   "cell_type": "code",
   "execution_count": 102,
   "metadata": {},
   "outputs": [
    {
     "name": "stdout",
     "output_type": "stream",
     "text": [
      "To compare the original invoice with the other JSON documents, we will look for the matching `selection_id` and then compare the other fields to ensure they align with the original invoice data. Once we have made all the comparisons, we will output the results in JSON format indicating which documents match and which do not.\n",
      "\n",
      "Here is the comparison and the resulting JSON output:\n",
      "\n",
      "```json\n",
      "{\n",
      "  \"data2\": \"not match\",\n",
      "  \"data3\": \"match\",\n",
      "  \"data1\": \"match\"\n",
      "}\n",
      "```\n",
      "\n",
      "Explanation:\n",
      "- `data1` refers to the first JSON document, which has a `selection_id` of 'SI102'. It does not match the original invoice's `selection_id` of 'SI101', so it is labeled as \"not match\".\n",
      "- `data2` refers to the second JSON document, which has a `selection_id` of 'SI103'. Similar to `data1`, it does not match the original invoice's `selection_id`, so it is also labeled as \"not match\".\n",
      "- `data3` refers to the third JSON document, which has a `selection_id` of 'SI101'. This matches the original invoice's `selection_id`, and all other fields (amount, currency, and date) also match. Therefore, it is labeled as \"match\".\n",
      "\n",
      "Please note that the output keys in the JSON format are sorted by the order in which the JSON documents were presented, hence `data2`, `data3`, and `data1` instead of a sequential order. If you wish to have them in sequential order, please provide the sequence in which you want the JSON documents to be labeled.\n",
      "\n",
      "Here is the output with the keys sorted sequentially:\n",
      "\n",
      "```json\n",
      "{\n",
      "  \"data1\": \"not match\",\n",
      "  \"data2\": \"not match\",\n",
      "  \"data3\": \"match\"\n",
      "}\n",
      "```\n"
     ]
    }
   ],
   "source": [
    "print(result.content)"
   ]
  }
 ],
 "metadata": {
  "kernelspec": {
   "display_name": "langchain",
   "language": "python",
   "name": "python3"
  },
  "language_info": {
   "codemirror_mode": {
    "name": "ipython",
    "version": 3
   },
   "file_extension": ".py",
   "mimetype": "text/x-python",
   "name": "python",
   "nbconvert_exporter": "python",
   "pygments_lexer": "ipython3",
   "version": "3.12.2"
  }
 },
 "nbformat": 4,
 "nbformat_minor": 2
}

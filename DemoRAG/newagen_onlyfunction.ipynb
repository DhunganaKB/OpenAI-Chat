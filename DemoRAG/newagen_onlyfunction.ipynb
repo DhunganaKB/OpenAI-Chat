{
 "cells": [
  {
   "cell_type": "code",
   "execution_count": 7,
   "metadata": {},
   "outputs": [],
   "source": [
    "from langchain_openai import ChatOpenAI\n",
    "from typing import List\n",
    "from typing import TypedDict, Annotated, Sequence\n",
    "import os, operator, json\n",
    "from langchain_experimental.utilities import PythonREPL\n",
    "from langchain_core.tools import tool\n",
    "from langchain.agents import Tool, initialize_agent\n",
    "from langchain.memory import ConversationBufferMemory,ConversationBufferWindowMemory\n",
    "from langchain.chains import LLMMathChain, LLMChain\n",
    "from langchain.agents.agent_types import AgentType\n",
    "from langchain.agents import create_openai_functions_agent\n",
    "from langchain.agents import AgentExecutor\n",
    "import time\n",
    "from dateutil import parser\n",
    "from datetime import datetime\n",
    "\n",
    "\n",
    "OPENAI_API_KEY=\"sk-...\"\n",
    "\n",
    "os.environ['OPENAI_API_KEY'] = OPENAI_API_KEY"
   ]
  },
  {
   "cell_type": "code",
   "execution_count": 8,
   "metadata": {},
   "outputs": [],
   "source": [
    "llm = ChatOpenAI(model=\"gpt-4-1106-preview\")"
   ]
  },
  {
   "cell_type": "code",
   "execution_count": 9,
   "metadata": {},
   "outputs": [],
   "source": [
    "# Redefining the contract data as a JSON string\n",
    "contract1 = \"\"\"{\"Sno\": 1,\n",
    "  \"Contract_Number\": \"C887/36\",\n",
    "  \"Contract_Date\": \"11/1/2023\",\n",
    "  \"Term_start_date\": \"12/1/2023\",\n",
    "  \"Term_end_date\": \"05/31/2025\",\n",
    "  \"Contract_amount\": \"$90,000.00\"}\"\"\"\n",
    "\n",
    "\n",
    "contract2 = \"\"\"{\"Sno\": 1,\n",
    "  \"Contract_Number\": \"C887/36\",\n",
    "  \"Contract_Date\": \"11/1/2023\",\n",
    "  \"Term_start_date\": \"12/1/2023\",\n",
    "  \"Term_end_date\": \"18\",\n",
    "  \"Contract_amount\": \"$90,000.00\"}\"\"\"\n",
    "\n",
    "\n",
    "contract3 = \"\"\"{\"Sno\": 1,\n",
    "  \"Contract_Number\": \"C887/36\",\n",
    "  \"Contract_Date\": \"11/1/2023\",\n",
    "  \"Term_start_date\": \"12/1/2023\",\n",
    "  \"Term_end_date\": \"18\",\n",
    "  \"Contract_amount\": [{\"item 1\" : \"SD Card\", \"Quantity\" : \"5\", \"Amount\" : \"45000$\"}, {\"item 2\": \"Tea Bag\", \"Quantity\": \"10\", \"Amount\": \"45000$\"} ]}\"\"\"\n"
   ]
  },
  {
   "cell_type": "code",
   "execution_count": 10,
   "metadata": {},
   "outputs": [],
   "source": [
    "def parse_date(date_str, dayfirst=False):\n",
    "    return parser.parse(date_str, dayfirst=dayfirst)\n",
    "\n",
    "def getting_yearly_amount(contract):\n",
    "    \"\"\" Function use to calculate the yearly amount to be paid for a contract\"\"\"\n",
    "    try:\n",
    "        contract = json.loads(contract)\n",
    "    except json.JSONDecodeError as e:\n",
    "        print('Failed to decode coefficients:', e)\n",
    "        return None\n",
    "    # Extracting required information from the contract\n",
    "    term_contract_date = parse_date(contract['Contract_Date'])\n",
    "    term_start_date = parse_date(contract['Term_start_date'])\n",
    "    if len(contract['Term_end_date']) > 5:\n",
    "        term_end_date = parse_date(contract['Term_end_date'])\n",
    "        total_months = (term_end_date.year - term_contract_date.year) * 12 + (term_end_date.month - term_contract_date.month)\n",
    "    else:\n",
    "        total_months = int(contract['Term_end_date'])\n",
    "\n",
    "    if type(contract['Contract_amount']) == list:\n",
    "        contract_amount = sum([float(item['Amount'].replace('$', '').replace(',', '')) for item in contract['Contract_amount']])\n",
    "    else: \n",
    "        contract_amount = float(contract['Contract_amount'].replace('$', '').replace(',', ''))\n",
    "    # Calculate monthly amount to be paid\n",
    "    monthly_payment = contract_amount / total_months\n",
    "\n",
    "    # Calculate the utilized period in months\n",
    "    utilized_months = (term_start_date.year - term_contract_date.year) * 12 + (term_start_date.month - term_contract_date.month)\n",
    "\n",
    "    # Calculate the utilized amount so far\n",
    "    utilized_amount = utilized_months * monthly_payment\n",
    "\n",
    "    # remaing amount\n",
    "    remaining_amount = contract_amount - utilized_amount\n",
    "\n",
    "    return {'utilized_amount': utilized_amount, 'remaining_amount': remaining_amount}\n",
    "\n"
   ]
  },
  {
   "cell_type": "code",
   "execution_count": 11,
   "metadata": {},
   "outputs": [],
   "source": [
    "equation_tool = Tool(name='Yearly Amount Estimation', func=getting_yearly_amount, description=\"Useful for data provided in the json format and estimating amount assciated for each year.\")\n",
    "\n",
    "tools = [equation_tool]\n",
    "\n",
    "memory = ConversationBufferWindowMemory(memory_key=\"chat_history\", k=3, input_key=\"input\", output_key=\"output\",return_messages=True) \n",
    "\n",
    "agent_parameters = {\n",
    "    'agent':'chat-conversational-react-description',\n",
    "    #'agent':AgentType.ZERO_SHOT_REACT_DESCRIPTION,\n",
    "    'tools':tools,\n",
    "    'llm':llm,\n",
    "    'verbose':True,\n",
    "    'max_iterations':4,\n",
    "    'return_intermediate_steps':True,\n",
    "    'early_stopping_method':'generate',\n",
    "  \n",
    "    'memory':memory\n",
    "}\n",
    "\n",
    "agent = initialize_agent(**agent_parameters)\n"
   ]
  },
  {
   "cell_type": "code",
   "execution_count": 12,
   "metadata": {},
   "outputs": [
    {
     "name": "stdout",
     "output_type": "stream",
     "text": [
      "CPU times: user 2 µs, sys: 0 ns, total: 2 µs\n",
      "Wall time: 4.77 µs\n",
      "\n",
      "\n",
      "\u001b[1m> Entering new AgentExecutor chain...\u001b[0m\n",
      "\u001b[32;1m\u001b[1;3m```json\n",
      "{\n",
      "    \"action\": \"Yearly Amount Estimation\",\n",
      "    \"action_input\": \"{\\\"Sno\\\": 1, \\\"Contract_Number\\\": \\\"C887/36\\\", \\\"Contract_Date\\\": \\\"11/1/2023\\\", \\\"Term_start_date\\\": \\\"12/1/2023\\\", \\\"Term_end_date\\\": \\\"18\\\", \\\"Contract_amount\\\": [{\\\"item 1\\\" : \\\"SD Card\\\", \\\"Quantity\\\" : \\\"5\\\", \\\"Amount\\\" : \\\"45000$\\\"}, {\\\"item 2\\\": \\\"Tea Bag\\\", \\\"Quantity\\\": \\\"10\\\", \\\"Amount\\\": \\\"45000$\\\"}]}\"\n",
      "}\n",
      "```\u001b[0m\n",
      "Observation: \u001b[36;1m\u001b[1;3m{'utilized_amount': 5000.0, 'remaining_amount': 85000.0}\u001b[0m\n",
      "Thought:\u001b[32;1m\u001b[1;3m```json\n",
      "{\n",
      "    \"action\": \"Final Answer\",\n",
      "    \"action_input\": \"Based on the provided information, the utilized amount from the contract is $5,000, and the remaining amount is $85,000.\"\n",
      "}\n",
      "```\u001b[0m\n",
      "\n",
      "\u001b[1m> Finished chain.\u001b[0m\n"
     ]
    }
   ],
   "source": [
    "%time\n",
    "output= agent.invoke({\"input\":f\"get each year amount from the given contract {contract3} \"})\n"
   ]
  },
  {
   "cell_type": "code",
   "execution_count": 13,
   "metadata": {},
   "outputs": [
    {
     "data": {
      "text/plain": [
       "{'utilized_amount': 5000.0, 'remaining_amount': 85000.0}"
      ]
     },
     "execution_count": 13,
     "metadata": {},
     "output_type": "execute_result"
    }
   ],
   "source": [
    "result=output['intermediate_steps'][-1][-1]\n",
    "result"
   ]
  },
  {
   "cell_type": "code",
   "execution_count": 14,
   "metadata": {},
   "outputs": [
    {
     "name": "stdout",
     "output_type": "stream",
     "text": [
      "\n",
      "\n",
      "\u001b[1m> Entering new AgentExecutor chain...\u001b[0m\n",
      "\u001b[32;1m\u001b[1;3m```json\n",
      "{\n",
      "    \"action\": \"Yearly Amount Estimation\",\n",
      "    \"action_input\": \"{\\\"Sno\\\": 1, \\\"Contract_Number\\\": \\\"C887/36\\\", \\\"Contract_Date\\\": \\\"11/1/2023\\\", \\\"Term_start_date\\\": \\\"12/1/2023\\\", \\\"Term_end_date\\\": \\\"18\\\", \\\"Contract_amount\\\": \\\"$90,000.00\\\"}\"\n",
      "}\n",
      "```\u001b[0m\n",
      "Observation: \u001b[36;1m\u001b[1;3m{'utilized_amount': 5000.0, 'remaining_amount': 85000.0}\u001b[0m\n",
      "Thought:\u001b[32;1m\u001b[1;3m```json\n",
      "{\n",
      "    \"action\": \"Final Answer\",\n",
      "    \"action_input\": \"The contract has a utilized amount of $5,000 and a remaining amount of $85,000.\"\n",
      "}\n",
      "```\u001b[0m\n",
      "\n",
      "\u001b[1m> Finished chain.\u001b[0m\n"
     ]
    },
    {
     "data": {
      "text/plain": [
       "{'utilized_amount': 5000.0, 'remaining_amount': 85000.0}"
      ]
     },
     "execution_count": 14,
     "metadata": {},
     "output_type": "execute_result"
    }
   ],
   "source": [
    "output= agent.invoke({\"input\":f\"get each year amount from the given contract {contract2} \"})\n",
    "\n",
    "result=output['intermediate_steps'][-1][-1]\n",
    "result"
   ]
  },
  {
   "cell_type": "code",
   "execution_count": 15,
   "metadata": {},
   "outputs": [
    {
     "name": "stdout",
     "output_type": "stream",
     "text": [
      "\n",
      "\n",
      "\u001b[1m> Entering new AgentExecutor chain...\u001b[0m\n",
      "\u001b[32;1m\u001b[1;3m```json\n",
      "{\n",
      "    \"action\": \"Yearly Amount Estimation\",\n",
      "    \"action_input\": \"{\\\"Sno\\\": 1, \\\"Contract_Number\\\": \\\"C887/36\\\", \\\"Contract_Date\\\": \\\"11/1/2023\\\", \\\"Term_start_date\\\": \\\"12/1/2023\\\", \\\"Term_end_date\\\": \\\"05/31/2025\\\", \\\"Contract_amount\\\": \\\"$90,000.00\\\"}\"\n",
      "}\n",
      "```\u001b[0m\n",
      "Observation: \u001b[36;1m\u001b[1;3m{'utilized_amount': 5000.0, 'remaining_amount': 85000.0}\u001b[0m\n",
      "Thought:\u001b[32;1m\u001b[1;3m```json\n",
      "{\n",
      "    \"action\": \"Final Answer\",\n",
      "    \"action_input\": \"The utilized amount from the contract is $5,000, and the remaining amount is $85,000.\"\n",
      "}\n",
      "```\u001b[0m\n",
      "\n",
      "\u001b[1m> Finished chain.\u001b[0m\n"
     ]
    },
    {
     "data": {
      "text/plain": [
       "{'utilized_amount': 5000.0, 'remaining_amount': 85000.0}"
      ]
     },
     "execution_count": 15,
     "metadata": {},
     "output_type": "execute_result"
    }
   ],
   "source": [
    "output= agent.invoke({\"input\":f\"get each year amount from the given contract {contract1} \"})\n",
    "\n",
    "result=output['intermediate_steps'][-1][-1]\n",
    "result"
   ]
  },
  {
   "cell_type": "markdown",
   "metadata": {},
   "source": [
    "### Using LLM Math Tool"
   ]
  },
  {
   "cell_type": "code",
   "execution_count": 17,
   "metadata": {},
   "outputs": [],
   "source": [
    "problem_chain = LLMMathChain.from_llm(llm=llm)\n",
    "\n",
    "math_tool = Tool.from_function(name=\"Calculator\",func=problem_chain.run,description=\"Useful for when you need to answer questions \\\n",
    "about math. This tool is only for math questions and nothing else. Only input\\\n",
    "math expressions.\")\n",
    "\n",
    "agent = initialize_agent(\n",
    "    tools=[math_tool],\n",
    "    llm=llm,\n",
    "    agent=AgentType.ZERO_SHOT_REACT_DESCRIPTION,\n",
    "    verbose=False,\n",
    "    handle_parsing_errors=True\n",
    ")\n",
    "\n",
    "contract1 = {'Sno': 1, 'Contract_Number': 'C887/36', 'Contract_Date': '11/1/2023', 'Term_start_date': '12/1/2023', 'Term_end_date': '05/31/2024', 'Contract_amount': '$90,000.00'}\n",
    "\n",
    "\n",
    "input_prompt = f\"\"\" You are an AI assistant that help us to make mathematical calculation. From the given contract details, calculate the amount to be paid based on the time spend by the auditor.\n",
    "Here are the details about the contract {contract1}:\n",
    "Contract_Date - Begining date of the contract and it is in the date format.\n",
    "Term_start_date - Auditor already worked until this data. This also in the date format.\n",
    "Term_end_date - The date when the contract will end. It could be either in the date fromat or simply the total number of months taken by contract to complete from the Contract_Date.\n",
    "Contract_amount - The total amount of the contract. It could be a single amount or an array of items with the amount associated with each item. If it is in the list, calulate the total amount by summing the amount of each item.\n",
    "\n",
    "Using following steps to calculate the amount to be paid and the remaing amount. also provide the final result in the json format.\n",
    "\n",
    "1. Total momnth covered by contract = Month between Contract_Date and Term_end_date. Include only month, not the days from the given dates. If the Term_end_date is a number, this number will simply be the total month covered by the contract.\n",
    "2. Total month spent by auditor = Month between Term_start_date and Contract_Date.\n",
    "3. Amount associated per month = Contract Amount / Total month covered by contract.\n",
    "4. Amount utilized by auditor = Amount utilized per month * Total month spent by auditor.\n",
    "5. Amount remaining = Contract Amount - Amount utilized by auditor.\n",
    "\n",
    "provide the final result (Amount utilized by auditor and  Amount remaining) in the json format.\n",
    "\n",
    "\"\"\""
   ]
  },
  {
   "cell_type": "code",
   "execution_count": 18,
   "metadata": {},
   "outputs": [],
   "source": [
    "output=agent.invoke({'input':input_prompt})\n"
   ]
  },
  {
   "cell_type": "code",
   "execution_count": 19,
   "metadata": {},
   "outputs": [
    {
     "data": {
      "text/plain": [
       "{'input': \" You are an AI assistant that help us to make mathematical calculation. From the given contract details, calculate the amount to be paid based on the time spend by the auditor.\\nHere are the details about the contract {'Sno': 1, 'Contract_Number': 'C887/36', 'Contract_Date': '11/1/2023', 'Term_start_date': '12/1/2023', 'Term_end_date': '05/31/2024', 'Contract_amount': '$90,000.00'}:\\nContract_Date - Begining date of the contract and it is in the date format.\\nTerm_start_date - Auditor already worked until this data. This also in the date format.\\nTerm_end_date - The date when the contract will end. It could be either in the date fromat or simply the total number of months taken by contract to complete from the Contract_Date.\\nContract_amount - The total amount of the contract. It could be a single amount or an array of items with the amount associated with each item. If it is in the list, calulate the total amount by summing the amount of each item.\\n\\nUsing following steps to calculate the amount to be paid and the remaing amount. also provide the final result in the json format.\\n\\n1. Total momnth covered by contract = Month between Contract_Date and Term_end_date. Include only month, not the days from the given dates. If the Term_end_date is a number, this number will simply be the total month covered by the contract.\\n2. Total month spent by auditor = Month between Term_start_date and Contract_Date.\\n3. Amount associated per month = Contract Amount / Total month covered by contract.\\n4. Amount utilized by auditor = Amount utilized per month * Total month spent by auditor.\\n5. Amount remaining = Contract Amount - Amount utilized by auditor.\\n\\nprovide the final result (Amount utilized by auditor and  Amount remaining) in the json format.\\n\\n\",\n",
       " 'output': '{\"Amount_utilized_by_auditor\": \"$12,857.14\", \"Amount_remaining\": \"$77,142.86\"}'}"
      ]
     },
     "execution_count": 19,
     "metadata": {},
     "output_type": "execute_result"
    }
   ],
   "source": [
    "output"
   ]
  },
  {
   "cell_type": "code",
   "execution_count": null,
   "metadata": {},
   "outputs": [],
   "source": []
  }
 ],
 "metadata": {
  "kernelspec": {
   "display_name": "langchain",
   "language": "python",
   "name": "python3"
  },
  "language_info": {
   "codemirror_mode": {
    "name": "ipython",
    "version": 3
   },
   "file_extension": ".py",
   "mimetype": "text/x-python",
   "name": "python",
   "nbconvert_exporter": "python",
   "pygments_lexer": "ipython3",
   "version": "3.12.2"
  }
 },
 "nbformat": 4,
 "nbformat_minor": 2
}

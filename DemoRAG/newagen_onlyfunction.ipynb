{
 "cells": [
  {
   "cell_type": "code",
   "execution_count": 9,
   "metadata": {},
   "outputs": [],
   "source": [
    "from langchain_openai import ChatOpenAI\n",
    "from typing import List\n",
    "from typing import TypedDict, Annotated, Sequence\n",
    "import os, operator, json\n",
    "from langchain_experimental.utilities import PythonREPL\n",
    "from langchain_core.tools import tool\n",
    "from langchain.agents import Tool, initialize_agent\n",
    "from langchain.memory import ConversationBufferMemory,ConversationBufferWindowMemory\n",
    "from langchain.chains import LLMMathChain, LLMChain\n",
    "from langchain.agents.agent_types import AgentType\n",
    "from langchain.agents import create_openai_functions_agent\n",
    "from langchain.agents import AgentExecutor\n",
    "import time\n",
    "from dateutil import parser\n",
    "from datetime import datetime\n",
    "\n",
    "\n",
    "OPENAI_API_KEY=\"sk-vppgz5x\"\n",
    "\n",
    "os.environ['OPENAI_API_KEY'] = OPENAI_API_KEY"
   ]
  },
  {
   "cell_type": "code",
   "execution_count": 10,
   "metadata": {},
   "outputs": [],
   "source": [
    "contract = \"\"\"{\"Sno\": 1,\n",
    "  \"Contract_Number\": \"C887/36\",\n",
    "  \"Contract_Date\": \"11/1/2023\",\n",
    "  \"Term_start_date\": \"12/1/2023\",\n",
    "  \"Term_end_date\": \"05/31/2025\",\n",
    "  \"Contract_amount\": \"$90,000.00\"}\"\"\""
   ]
  },
  {
   "cell_type": "code",
   "execution_count": 11,
   "metadata": {},
   "outputs": [],
   "source": [
    "llm = ChatOpenAI(model=\"gpt-4-1106-preview\")"
   ]
  },
  {
   "cell_type": "markdown",
   "metadata": {},
   "source": [
    "# Create Agent Using Customized Function"
   ]
  },
  {
   "cell_type": "code",
   "execution_count": 160,
   "metadata": {},
   "outputs": [],
   "source": [
    "def month_number_to_date(month_number, start_year=2023, start_month=5):\n",
    "    # Adjust month_number for the start_month\n",
    "    adjusted_month_number = month_number + start_month -1\n",
    "    \n",
    "    # Calculate the actual year and month considering the start_month\n",
    "    year = start_year + (adjusted_month_number - 1) // 12\n",
    "    month = (adjusted_month_number - 1) % 12 + 1\n",
    "    \n",
    "    return datetime(year, month, 1)"
   ]
  },
  {
   "cell_type": "code",
   "execution_count": 161,
   "metadata": {},
   "outputs": [],
   "source": [
    "def parse_date(date_str, dayfirst=False):\n",
    "    return parser.parse(date_str, dayfirst=dayfirst)"
   ]
  },
  {
   "cell_type": "code",
   "execution_count": 162,
   "metadata": {},
   "outputs": [],
   "source": [
    "def getting_yearly_amount(contract):\n",
    "#def getting_yearly_amount(contract=f\"{contract}\"):\n",
    "    try:\n",
    "        contract = json.loads(contract)\n",
    "    except json.JSONDecodeError as e:\n",
    "        print('Failed to decode coefficients:', e)\n",
    "        return None\n",
    "    # Extracting required information from the contract\n",
    "    if len(contract['Term_start_date']) <= 5:\n",
    "        start_month = int(contract['Term_start_date'])\n",
    "        end_month = int(contract['Term_end_date'])\n",
    "        start_year = int(contract['Contract_Year'])\n",
    "        term_start_date=datetime(start_year, start_month, 1)\n",
    "        term_end_date = month_number_to_date(month_number=end_month, start_year=start_year, start_month=start_month)\n",
    "        #print(term_start_date, term_end_date)\n",
    "    else:\n",
    "        term_start_date = parse_date(contract['Term_start_date'])\n",
    "        term_end_date = parse_date(contract['Term_end_date'])\n",
    "\n",
    "    if type(contract['Contract_amount']) == list:\n",
    "        contract_amount = sum([float(item['Amount'].replace('$', '').replace(',', '')) for item in contract['Contract_amount']])\n",
    "    else: \n",
    "        contract_amount = float(contract['Contract_amount'].replace('$', '').replace(',', ''))\n",
    "\n",
    "    # Calculating the total number of months for the contract period\n",
    "    total_months = (term_end_date.year - term_start_date.year) * 12 + (term_end_date.month - term_start_date.month + 1)\n",
    "\n",
    "    print(total_months)\n",
    "\n",
    "    # Finding the total number of years\n",
    "    total_years = term_end_date.year - term_start_date.year + 1\n",
    "\n",
    "    # Getting the number of months in each year\n",
    "    months_per_year = {}\n",
    "    for year in range(term_start_date.year, term_end_date.year + 1):\n",
    "        if year == term_start_date.year:\n",
    "            months_per_year[year] = 12 - term_start_date.month + 1\n",
    "        elif year == term_end_date.year:\n",
    "            months_per_year[year] = term_end_date.month\n",
    "        else:\n",
    "            months_per_year[year] = 12\n",
    "\n",
    "    # Calculating the amount corresponds to each month\n",
    "    amount_per_month = contract_amount / total_months\n",
    "\n",
    "    # print(amount_per_month)\n",
    "    # print(months_per_year)\n",
    "\n",
    "    # Calculating the amount corresponds to each year\n",
    "    amount_per_year = {year: round(months * amount_per_month,2) for year, months in months_per_year.items()}\n",
    "\n",
    "    return amount_per_year\n",
    "\n",
    "equation_tool = Tool(name='Yearly Amount Estimation', func=getting_yearly_amount, description=\"Useful for data provided in the json format and estimating amount assciated for each year.\")\n",
    "\n",
    "tools = [equation_tool]\n",
    "\n",
    "memory = ConversationBufferWindowMemory(memory_key=\"chat_history\", k=3, input_key=\"input\", output_key=\"output\",return_messages=True) \n",
    "\n",
    "agent_parameters = {\n",
    "    'agent':'chat-conversational-react-description',\n",
    "    #'agent':AgentType.ZERO_SHOT_REACT_DESCRIPTION,\n",
    "    'tools':tools,\n",
    "    'llm':llm,\n",
    "    'verbose':True,\n",
    "    'max_iterations':4,\n",
    "    'return_intermediate_steps':True,\n",
    "    'early_stopping_method':'generate',\n",
    "  \n",
    "    'memory':memory\n",
    "}\n",
    "\n",
    "agent = initialize_agent(**agent_parameters)\n"
   ]
  },
  {
   "cell_type": "code",
   "execution_count": 163,
   "metadata": {},
   "outputs": [],
   "source": [
    "contract = \"\"\"{\"Sno\": 1,\n",
    "  \"Contract_Number\": \"C887/36\",\n",
    "  \"Contract_Date\": \"11/1/2023\",\n",
    "  \"Term_start_date\": \"12/1/2023\",\n",
    "  \"Term_end_date\": \"05/31/2025\",\n",
    "  \"Contract_amount\": \"$90,000.00\"}\"\"\"\n",
    "\n",
    "contract = \"\"\"{\"Sno\": 1,\n",
    "  \"Contract_Number\": \"C887/36\",\n",
    "  \"Contract_Year\": \"2023\",\n",
    "  \"Contract_Date\": \"5\",\n",
    "  \"Term_start_date\": \"12\",\n",
    "  \"Term_end_date\": \"36\",\n",
    "  \"Contract_amount\": \"$90,000.00\"}\"\"\"\n",
    "\n",
    "contract = \"\"\"{\"Sno\": 1,\n",
    "  \"Contract_Number\": \"C887/36\",\n",
    "  \"Contract_Year\": \"2023\",\n",
    "  \"Contract_Date\": \"5\",\n",
    "  \"Term_start_date\": \"12\",\n",
    "  \"Term_end_date\": \"36\",\n",
    "  \"Contract_amount\":[{\"item 1\" : \"SD Card\", \"Quantity\" : \"5\", \"Amount\" : \"30$\"}, {\"item 2\": \"Tea Bag\", \"Quantity\": \"10\", \"Amount\": \"5$\"} ]\n",
    "  }\"\"\"\n",
    "\n"
   ]
  },
  {
   "cell_type": "code",
   "execution_count": 164,
   "metadata": {},
   "outputs": [
    {
     "name": "stdout",
     "output_type": "stream",
     "text": [
      "CPU times: user 2 µs, sys: 0 ns, total: 2 µs\n",
      "Wall time: 3.1 µs\n",
      "\n",
      "\n",
      "\u001b[1m> Entering new AgentExecutor chain...\u001b[0m\n",
      "\u001b[32;1m\u001b[1;3m```json\n",
      "{\n",
      "    \"action\": \"Yearly Amount Estimation\",\n",
      "    \"action_input\": \"{\\\"Sno\\\": 1, \\\"Contract_Number\\\": \\\"C887/36\\\", \\\"Contract_Year\\\": \\\"2023\\\", \\\"Contract_Date\\\": \\\"5\\\", \\\"Term_start_date\\\": \\\"12\\\", \\\"Term_end_date\\\": \\\"36\\\", \\\"Contract_amount\\\":[{\\\"item 1\\\" : \\\"SD Card\\\", \\\"Quantity\\\" : \\\"5\\\", \\\"Amount\\\" : \\\"30$\\\"}, {\\\"item 2\\\": \\\"Tea Bag\\\", \\\"Quantity\\\": \\\"10\\\", \\\"Amount\\\": \\\"5$\\\"}]}\"\n",
      "}\n",
      "```\u001b[0m36\n",
      "\n",
      "Observation: \u001b[36;1m\u001b[1;3m{2023: 0.97, 2024: 11.67, 2025: 11.67, 2026: 10.69}\u001b[0m\n",
      "Thought:\u001b[32;1m\u001b[1;3m```json\n",
      "{\n",
      "    \"action\": \"Final Answer\",\n",
      "    \"action_input\": \"The estimated contract amounts per year are as follows: $0.97 for 2023, $11.67 for 2024, $11.67 for 2025, and $10.69 for 2026.\"\n",
      "}\n",
      "```\u001b[0m\n",
      "\n",
      "\u001b[1m> Finished chain.\u001b[0m\n"
     ]
    }
   ],
   "source": [
    "%time\n",
    "output= agent.invoke({\"input\":f\"get each year amount from the given contract {contract} \"})\n"
   ]
  },
  {
   "cell_type": "code",
   "execution_count": 165,
   "metadata": {},
   "outputs": [
    {
     "data": {
      "text/plain": [
       "{2023: 0.97, 2024: 11.67, 2025: 11.67, 2026: 10.69}"
      ]
     },
     "execution_count": 165,
     "metadata": {},
     "output_type": "execute_result"
    }
   ],
   "source": [
    "result=output['intermediate_steps'][-1][-1]\n",
    "result"
   ]
  }
 ],
 "metadata": {
  "kernelspec": {
   "display_name": "langchain",
   "language": "python",
   "name": "python3"
  },
  "language_info": {
   "codemirror_mode": {
    "name": "ipython",
    "version": 3
   },
   "file_extension": ".py",
   "mimetype": "text/x-python",
   "name": "python",
   "nbconvert_exporter": "python",
   "pygments_lexer": "ipython3",
   "version": "3.12.2"
  }
 },
 "nbformat": 4,
 "nbformat_minor": 2
}

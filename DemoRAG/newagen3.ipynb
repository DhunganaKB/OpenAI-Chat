{
 "cells": [
  {
   "cell_type": "code",
   "execution_count": 1,
   "metadata": {},
   "outputs": [],
   "source": [
    "from langchain_openai import ChatOpenAI\n",
    "from typing import List\n",
    "from typing import TypedDict, Annotated, Sequence\n",
    "import os, operator, json\n",
    "from langchain_experimental.utilities import PythonREPL\n",
    "from langchain_core.tools import tool\n",
    "from langchain.agents import Tool, initialize_agent\n",
    "from langchain.memory import ConversationBufferMemory,ConversationBufferWindowMemory\n",
    "from langchain.chains import LLMMathChain, LLMChain\n",
    "from langchain.agents.agent_types import AgentType\n",
    "from langchain.agents import create_openai_functions_agent\n",
    "from langchain.agents import AgentExecutor\n",
    "import time\n",
    "\n",
    "\n",
    "OPENAI_API_KEY=\"sk-vppxxxLaft8GdCx4PxxxXT3BlxxFJWGVSIWWCtErf3tWZgz5x\"\n",
    "\n",
    "os.environ['OPENAI_API_KEY'] = OPENAI_API_KEY"
   ]
  },
  {
   "cell_type": "code",
   "execution_count": 2,
   "metadata": {},
   "outputs": [],
   "source": [
    "contract = \"\"\"{\"Sno\": 1,\n",
    "  \"Contract_Number\": \"C887/36\",\n",
    "  \"Contract_Date\": \"11/1/2023\",\n",
    "  \"Term_start_date\": \"12/1/2023\",\n",
    "  \"Term_end_date\": \"05/31/2025\",\n",
    "  \"Contract_amount\": \"$90,000.00\"}\"\"\""
   ]
  },
  {
   "cell_type": "code",
   "execution_count": 3,
   "metadata": {},
   "outputs": [],
   "source": [
    "llm = ChatOpenAI(model=\"gpt-4-1106-preview\")"
   ]
  },
  {
   "cell_type": "markdown",
   "metadata": {},
   "source": [
    "# Create Agent Using Customized Function"
   ]
  },
  {
   "cell_type": "code",
   "execution_count": 10,
   "metadata": {},
   "outputs": [],
   "source": [
    "from datetime import datetime\n",
    "def getting_yearly_amount(contract):\n",
    "#def getting_yearly_amount(contract=f\"{contract}\"):\n",
    "    try:\n",
    "        contract = json.loads(contract)\n",
    "    except json.JSONDecodeError as e:\n",
    "        print('Failed to decode coefficients:', e)\n",
    "        return None\n",
    "    # Extracting required information from the contract\n",
    "    term_start_date = datetime.strptime(contract['Term_start_date'], '%m/%d/%Y')\n",
    "    term_end_date = datetime.strptime(contract['Term_end_date'], '%m/%d/%Y')\n",
    "    contract_amount = float(contract['Contract_amount'].replace('$', '').replace(',', ''))\n",
    "\n",
    "    # Calculating the total number of months for the contract period\n",
    "    total_months = (term_end_date.year - term_start_date.year) * 12 + (term_end_date.month - term_start_date.month + 1)\n",
    "\n",
    "    # Finding the total number of years\n",
    "    total_years = term_end_date.year - term_start_date.year + 1\n",
    "\n",
    "    # Getting the number of months in each year\n",
    "    months_per_year = {}\n",
    "    for year in range(term_start_date.year, term_end_date.year + 1):\n",
    "        if year == term_start_date.year:\n",
    "            months_per_year[year] = 12 - term_start_date.month + 1\n",
    "        elif year == term_end_date.year:\n",
    "            months_per_year[year] = term_end_date.month\n",
    "        else:\n",
    "            months_per_year[year] = 12\n",
    "\n",
    "    # Calculating the amount corresponds to each month\n",
    "    amount_per_month = contract_amount / total_months\n",
    "\n",
    "    # Calculating the amount corresponds to each year\n",
    "    amount_per_year = {year: months * amount_per_month for year, months in months_per_year.items()}\n",
    "\n",
    "    return amount_per_year\n",
    "\n",
    "equation_tool = Tool(name='Yearly Amount Estimation', func=getting_yearly_amount, description=\"Useful for data provided in the json format and estimating amount assciated for each year.\")\n",
    "\n",
    "tools = [equation_tool]\n",
    "\n",
    "memory = ConversationBufferWindowMemory(memory_key=\"chat_history\", k=3, input_key=\"input\", output_key=\"output\",return_messages=True) \n",
    "\n",
    "agent_parameters = {\n",
    "    'agent':'chat-conversational-react-description',\n",
    "    'tools':tools,\n",
    "    'llm':llm,\n",
    "    'verbose':True,\n",
    "    'max_iterations':4,\n",
    "    'return_intermediate_steps':True,\n",
    "    'early_stopping_method':'generate',\n",
    "  \n",
    "    'memory':memory\n",
    "}\n",
    "\n",
    "agent = initialize_agent(**agent_parameters)\n"
   ]
  },
  {
   "cell_type": "code",
   "execution_count": 11,
   "metadata": {},
   "outputs": [],
   "source": [
    "contract = \"\"\"{\"Sno\": 1,\n",
    "  \"Contract_Number\": \"C887/36\",\n",
    "  \"Contract_Date\": \"11/1/2023\",\n",
    "  \"Term_start_date\": \"12/1/2023\",\n",
    "  \"Term_end_date\": \"05/31/2025\",\n",
    "  \"Contract_amount\": \"$90,000.00\"}\"\"\""
   ]
  },
  {
   "cell_type": "code",
   "execution_count": 12,
   "metadata": {},
   "outputs": [
    {
     "name": "stdout",
     "output_type": "stream",
     "text": [
      "CPU times: user 2 µs, sys: 1e+03 ns, total: 3 µs\n",
      "Wall time: 17.9 µs\n",
      "\n",
      "\n",
      "\u001b[1m> Entering new AgentExecutor chain...\u001b[0m\n",
      "\u001b[32;1m\u001b[1;3m```json\n",
      "{\n",
      "    \"action\": \"Yearly Amount Estimation\",\n",
      "    \"action_input\": \"{\\\"Sno\\\": 1, \\\"Contract_Number\\\": \\\"C887/36\\\", \\\"Contract_Date\\\": \\\"11/1/2023\\\", \\\"Term_start_date\\\": \\\"12/1/2023\\\", \\\"Term_end_date\\\": \\\"05/31/2025\\\", \\\"Contract_amount\\\": \\\"$90,000.00\\\"}\"\n",
      "}\n",
      "```\u001b[0m\n",
      "Observation: \u001b[36;1m\u001b[1;3m{2023: 5000.0, 2024: 60000.0, 2025: 25000.0}\u001b[0m\n",
      "Thought:\u001b[32;1m\u001b[1;3m```json\n",
      "{\n",
      "    \"action\": \"Final Answer\",\n",
      "    \"action_input\": \"The estimated contract amount allocated for each year is as follows: For the year 2023, the amount is $5,000.00; for the year 2024, it's $60,000.00; and for the year 2025, the amount is $25,000.00.\"\n",
      "}\n",
      "```\u001b[0m\n",
      "\n",
      "\u001b[1m> Finished chain.\u001b[0m\n"
     ]
    }
   ],
   "source": [
    "%time\n",
    "output= agent.invoke({\"input\":f\"get each year amount from the given contract {contract} \"})\n"
   ]
  },
  {
   "cell_type": "code",
   "execution_count": 13,
   "metadata": {},
   "outputs": [
    {
     "data": {
      "text/plain": [
       "{2023: 5000.0, 2024: 60000.0, 2025: 25000.0}"
      ]
     },
     "execution_count": 13,
     "metadata": {},
     "output_type": "execute_result"
    }
   ],
   "source": [
    "result=output['intermediate_steps'][-1][-1]\n",
    "result"
   ]
  },
  {
   "cell_type": "markdown",
   "metadata": {},
   "source": [
    "# Creating an Agent Using Standard Tool and Prompt"
   ]
  },
  {
   "cell_type": "code",
   "execution_count": 14,
   "metadata": {},
   "outputs": [],
   "source": [
    "problem_chain = LLMMathChain.from_llm(llm=llm)\n",
    "\n",
    "math_tool = Tool.from_function(name=\"Calculator\",func=problem_chain.run,description=\"Useful for when you need to answer questions \\\n",
    "about math. This tool is only for math questions and nothing else. Only input\\\n",
    "math expressions.\")\n",
    "\n",
    "agent = initialize_agent(\n",
    "    tools=[math_tool],\n",
    "    llm=llm,\n",
    "    agent=AgentType.ZERO_SHOT_REACT_DESCRIPTION,\n",
    "    verbose=False,\n",
    "    handle_parsing_errors=True\n",
    ")"
   ]
  },
  {
   "cell_type": "code",
   "execution_count": 15,
   "metadata": {},
   "outputs": [],
   "source": [
    "\n",
    "contract={'Sno': 1, 'Contract_Number': 'C887/36', 'Contract_Date': '11/1/2023', 'Term_start_date': '12/1/2023', 'Term_end_date': '05/31/2024', 'Contract_amount': '$90,000.00'},\n",
    "\n",
    "instruction=f\"\"\"\n",
    "From this dictionay {contract} extract the value of each key and perform the following steps\n",
    "1. Get the total number of months for the given contract period. The beginning of the contract is Term_start_date and the end of the contract is Term_end_date. Include both the initial and final months in calculating the total number of months.\n",
    "2. Find the total number of years in this contract. The beginning of the contract is Term_start_date and the end of the contract is Term_end_date. Include both the initial and final years in calculating the total number of years.\n",
    "3. Get the number of months in each year. For example, if the Term_start_date is 11/1/2023 and Term_end_date is 8/1/2025, then there will be 2, 12 and 8 months in 2023, 2024 and 2025, respectively\n",
    "4. Get the amount corresponds to each month. This will be Contract_amount divided by total number of months for the given contract period.\n",
    "5. Get the amount corresponds to each year. This will be the multiplication of the amount corresponds to each month and the number of months in each year.\n",
    "Provide the final result in the json format where year will be key and the amount corresponds to each year will be value. Don't put addional text in the final output.\n",
    "\"\"\""
   ]
  },
  {
   "cell_type": "code",
   "execution_count": 16,
   "metadata": {},
   "outputs": [
    {
     "data": {
      "text/plain": [
       "'{\\n  \"2023\": 15000,\\n  \"2024\": 75000\\n}'"
      ]
     },
     "execution_count": 16,
     "metadata": {},
     "output_type": "execute_result"
    }
   ],
   "source": [
    "output=agent.invoke({'input':instruction})\n",
    "output['output']"
   ]
  },
  {
   "cell_type": "markdown",
   "metadata": {},
   "source": [
    "# Create an agent using python repl"
   ]
  },
  {
   "cell_type": "code",
   "execution_count": 20,
   "metadata": {},
   "outputs": [],
   "source": [
    "from langchain import hub\n",
    "from langchain_experimental.tools import PythonREPLTool\n",
    "tools = [PythonREPLTool()]\n"
   ]
  },
  {
   "cell_type": "code",
   "execution_count": 21,
   "metadata": {},
   "outputs": [],
   "source": [
    "instructions = \"\"\"You are an agent designed to write and execute python code to answer questions.\n",
    "You have access to a python REPL, which you can use to execute python code.\n",
    "If you get an error, debug your code and try again.\n",
    "Only use the output of your code to answer the question. \n",
    "You might know the answer without running any code, but you should still run the code to get the answer.\n",
    "User are encouraged to provide query with json data in this format.\n",
    "{'Sno': 1,\n",
    "  'Contract_Number': 'C887/36',\n",
    "  'Contract_Date': '11/1/2023',\n",
    "  'Term_start_date': '12/1/202323',\n",
    "  'Term_end_date': '05/31/2024',\n",
    "  'Contract_amount': '$90,000.00'}\n",
    "If the user provide the json fomated input in the query, follow the following steps for to generate the final result.\n",
    "1. Get the total number of months for the given contract period. The beginning of the contract is Term_start_date and the end of the contract is Term_end_date. Include both the initial and final months in calculating the total number of months.\n",
    "2. Find the total number of years in this contract. The beginning of the contract is Term_start_date and the end of the contract is Term_end_date. Include both the initial and final years in calculating the total number of years.\n",
    "3. Get the number of months in each year. For example, if the Term_start_date is 11/1/2023 and Term_end_date is 8/1/2025, then there will be 2, 12 and 8 months in 2023, 2024 and 2025, respectively\n",
    "4. Get the amount corresponds to each month. This will be Contract_amount divided by total number of months for the given contract period.\n",
    "5. Get the amount corresponds to each year. This will be the multiplication of the amount corresponds to each month and the number of months in each year.\n",
    "Provide the final result in the json format where year will be a key and the amount corresponds to each year will be the value. Don't put addional text in the final output.\n",
    "\"\"\"\n"
   ]
  },
  {
   "cell_type": "code",
   "execution_count": 22,
   "metadata": {},
   "outputs": [],
   "source": [
    "base_prompt = hub.pull(\"langchain-ai/openai-functions-template\")\n",
    "prompt = base_prompt.partial(instructions=instructions)"
   ]
  },
  {
   "cell_type": "code",
   "execution_count": 23,
   "metadata": {},
   "outputs": [],
   "source": [
    "agent = create_openai_functions_agent(llm, tools, prompt)\n",
    "agent_executor = AgentExecutor(agent=agent, tools=tools, verbose=True)\n"
   ]
  },
  {
   "cell_type": "code",
   "execution_count": 24,
   "metadata": {},
   "outputs": [],
   "source": [
    "query={'Sno': 1,\n",
    "  'Contract_Number': 'C887/36',\n",
    "  'Contract_Date': '11/1/2023',\n",
    "  'Term_start_date': '12/1/202323',\n",
    "  'Term_end_date': '05/31/2024',\n",
    "  'Contract_amount': '$90,000.00'}\n"
   ]
  },
  {
   "cell_type": "code",
   "execution_count": 25,
   "metadata": {},
   "outputs": [
    {
     "name": "stdout",
     "output_type": "stream",
     "text": [
      "\n",
      "\n",
      "\u001b[1m> Entering new AgentExecutor chain...\u001b[0m\n"
     ]
    },
    {
     "name": "stderr",
     "output_type": "stream",
     "text": [
      "Python REPL can execute arbitrary code. Use with caution.\n"
     ]
    },
    {
     "name": "stdout",
     "output_type": "stream",
     "text": [
      "\u001b[32;1m\u001b[1;3m\n",
      "Invoking: `Python_REPL` with `from datetime import datetime\n",
      "\n",
      "# Input data\n",
      "contract_data = {'Sno': 1, 'Contract_Number': 'C887/36', 'Contract_Date': '11/1/2023', 'Term_start_date': '12/1/202323', 'Term_end_date': '05/31/2024', 'Contract_amount': '$90,000.00'}\n",
      "\n",
      "# Correct the Term_start_date\n",
      "contract_data['Term_start_date'] = '12/1/2023'\n",
      "\n",
      "# Convert dates to datetime objects\n",
      "start_date = datetime.strptime(contract_data['Term_start_date'], '%m/%d/%Y')\n",
      "end_date = datetime.strptime(contract_data['Term_end_date'], '%m/%d/%Y')\n",
      "\n",
      "# Calculate the total number of months\n",
      "total_months = (end_date.year - start_date.year) * 12 + end_date.month - start_date.month + 1\n",
      "print(total_months)`\n",
      "\n",
      "\n",
      "\u001b[0m\u001b[36;1m\u001b[1;3m6\n",
      "\u001b[0m\u001b[32;1m\u001b[1;3m\n",
      "Invoking: `Python_REPL` with `# Calculate the total number of years\n",
      "start_year = start_date.year\n",
      "end_year = end_date.year\n",
      "total_years = end_year - start_year + 1\n",
      "print(total_years)`\n",
      "\n",
      "\n",
      "\u001b[0m\u001b[36;1m\u001b[1;3m2\n",
      "\u001b[0m\u001b[32;1m\u001b[1;3m\n",
      "Invoking: `Python_REPL` with `# Calculate the number of months in each year\n",
      "months_in_years = {}\n",
      "for year in range(start_year, end_year + 1):\n",
      "    if year == start_year:\n",
      "        months_in_years[year] = 12 - start_date.month + 1\n",
      "    elif year == end_year:\n",
      "        months_in_years[year] = end_date.month\n",
      "    else:\n",
      "        months_in_years[year] = 12\n",
      "print(months_in_years)`\n",
      "\n",
      "\n",
      "\u001b[0m\u001b[36;1m\u001b[1;3m{2023: 1, 2024: 5}\n",
      "\u001b[0m\u001b[32;1m\u001b[1;3m\n",
      "Invoking: `Python_REPL` with `# Get the amount corresponds to each month\n",
      "contract_amount = float(contract_data['Contract_amount'].replace('$', '').replace(',', ''))\n",
      "amount_per_month = contract_amount / total_months\n",
      "print(amount_per_month)`\n",
      "\n",
      "\n",
      "\u001b[0m\u001b[36;1m\u001b[1;3m15000.0\n",
      "\u001b[0m\u001b[32;1m\u001b[1;3m\n",
      "Invoking: `Python_REPL` with `# Get the amount corresponds to each year\n",
      "amount_per_year = {}\n",
      "for year, months in months_in_years.items():\n",
      "    amount_per_year[year] = months * amount_per_month\n",
      "print(amount_per_year)`\n",
      "\n",
      "\n",
      "\u001b[0m\u001b[36;1m\u001b[1;3m{2023: 15000.0, 2024: 75000.0}\n",
      "\u001b[0m\u001b[32;1m\u001b[1;3m```json\n",
      "{\n",
      "  \"2023\": 15000.0,\n",
      "  \"2024\": 75000.0\n",
      "}\n",
      "```\u001b[0m\n",
      "\n",
      "\u001b[1m> Finished chain.\u001b[0m\n"
     ]
    },
    {
     "data": {
      "text/plain": [
       "'```json\\n{\\n  \"2023\": 15000.0,\\n  \"2024\": 75000.0\\n}\\n```'"
      ]
     },
     "execution_count": 25,
     "metadata": {},
     "output_type": "execute_result"
    }
   ],
   "source": [
    "\n",
    "result=agent_executor.invoke({\"input\": query})\n",
    "\n",
    "result['output']"
   ]
  },
  {
   "cell_type": "code",
   "execution_count": 26,
   "metadata": {},
   "outputs": [
    {
     "data": {
      "text/plain": [
       "'```json\\n{\\n  \"2023\": 15000.0,\\n  \"2024\": 75000.0\\n}\\n```'"
      ]
     },
     "execution_count": 26,
     "metadata": {},
     "output_type": "execute_result"
    }
   ],
   "source": [
    "result['output']"
   ]
  },
  {
   "cell_type": "code",
   "execution_count": 30,
   "metadata": {},
   "outputs": [],
   "source": [
    "# check this out: https://pub.towardsai.net/use-langchain-to-extract-a-dictionary-from-text-3fca094d85d\n",
    "# from langchain.output_parsers import ResponseSchema\n",
    "# from langchain.output_parsers import StructuredOutputParser\n",
    "\n",
    "# year_schema = ResponseSchema(name=\"year\",\n",
    "#                              description=\"year covered in contract\")\n",
    "\n",
    "# amount_schema = ResponseSchema(name=\"amount\",\n",
    "#                              description=\"amount covered in each year\")\n",
    "\n",
    "# response_schemas = [year_schema, amount_schema]\n",
    "                        \n",
    "\n",
    "# output_parser = StructuredOutputParser.from_response_schemas(response_schemas)\n",
    "\n",
    "# output_dict = output_parser.parse(result['output'])"
   ]
  },
  {
   "cell_type": "markdown",
   "metadata": {},
   "source": [
    "## Using Standard Tool"
   ]
  },
  {
   "cell_type": "code",
   "execution_count": 61,
   "metadata": {},
   "outputs": [],
   "source": [
    "from langchain.agents import tool\n",
    "from datetime import datetime\n",
    "\n",
    "from langchain_openai import ChatOpenAI\n",
    "from langchain_core.prompts import ChatPromptTemplate, MessagesPlaceholder\n",
    "\n",
    "\n",
    "OPENAI_API_KEY=\"sk-xxxEQr0Lxxx8GdCx4PrXT3BxxkFJWGVSIWWCtErf3tWZgz5x\"\n",
    "\n",
    "os.environ['OPENAI_API_KEY'] = OPENAI_API_KEY\n",
    "\n",
    "llm = ChatOpenAI(model=\"gpt-4-1106-preview\", temperature=0)\n"
   ]
  },
  {
   "cell_type": "code",
   "execution_count": 62,
   "metadata": {},
   "outputs": [],
   "source": [
    "@tool\n",
    "def getting_yearly_amount(contract) -> dict:\n",
    "    \"\"\" Useful for doing mathematical calculation\"\"\"\n",
    "    # try:\n",
    "    #     contract = json.loads(contract)\n",
    "    # except json.JSONDecodeError as e:\n",
    "    #     print('Failed to decode coefficients:', e)\n",
    "    #     return None\n",
    "    # Extracting required information from the contract\n",
    "    term_start_date = datetime.strptime(contract['Term_start_date'], '%m/%d/%Y')\n",
    "    term_end_date = datetime.strptime(contract['Term_end_date'], '%m/%d/%Y')\n",
    "    contract_amount = float(contract['Contract_amount'].replace('$', '').replace(',', ''))\n",
    "\n",
    "    # Calculating the total number of months for the contract period\n",
    "    total_months = (term_end_date.year - term_start_date.year) * 12 + (term_end_date.month - term_start_date.month + 1)\n",
    "\n",
    "    # Finding the total number of years\n",
    "    total_years = term_end_date.year - term_start_date.year + 1\n",
    "\n",
    "    # Getting the number of months in each year\n",
    "    months_per_year = {}\n",
    "    for year in range(term_start_date.year, term_end_date.year + 1):\n",
    "        if year == term_start_date.year:\n",
    "            months_per_year[year] = 12 - term_start_date.month + 1\n",
    "        elif year == term_end_date.year:\n",
    "            months_per_year[year] = term_end_date.month\n",
    "        else:\n",
    "            months_per_year[year] = 12\n",
    "\n",
    "    # Calculating the amount corresponds to each month\n",
    "    amount_per_month = contract_amount / total_months\n",
    "\n",
    "    # Calculating the amount corresponds to each year\n",
    "    amount_per_year = {year: months * amount_per_month for year, months in months_per_year.items()}\n",
    "\n",
    "    return amount_per_year\n"
   ]
  },
  {
   "cell_type": "code",
   "execution_count": 63,
   "metadata": {},
   "outputs": [],
   "source": [
    "tools = [getting_yearly_amount]\n",
    "\n",
    "extract_messages = lambda x: x[\"messages\"]\n",
    "\n",
    "prompt = ChatPromptTemplate.from_messages(\n",
    "    [\n",
    "        (\n",
    "            \"system\",\n",
    "            \"You are very powerful assistant, but don't know current events\",\n",
    "        ),\n",
    "        (\"user\", \"{input}\"),\n",
    "        MessagesPlaceholder(variable_name=\"agent_scratchpad\"),\n",
    "    ]\n",
    ")\n",
    "\n",
    "llm_with_tools = llm.bind_tools(tools)\n",
    "\n",
    "\n",
    "from langchain.agents.format_scratchpad.openai_tools import (\n",
    "    format_to_openai_tool_messages,\n",
    ")\n",
    "from langchain.agents.output_parsers.openai_tools import OpenAIToolsAgentOutputParser\n",
    "\n",
    "agent = (\n",
    "    {\n",
    "        \"input\": lambda x: x[\"input\"],\n",
    "        \"agent_scratchpad\": lambda x: format_to_openai_tool_messages(\n",
    "            x[\"intermediate_steps\"]\n",
    "        ),\n",
    "        \"messages\": extract_messages, \n",
    "    }\n",
    "    | prompt\n",
    "    | llm_with_tools\n",
    "    | OpenAIToolsAgentOutputParser()\n",
    ")\n",
    "from langchain.agents import AgentExecutor\n",
    "\n",
    "agent_executor = AgentExecutor(agent=agent, tools=tools, verbose=True)\n"
   ]
  },
  {
   "cell_type": "code",
   "execution_count": 64,
   "metadata": {},
   "outputs": [],
   "source": [
    "contract={'Sno': 1,\n",
    "  'Contract_Number': 'C887/36',\n",
    "  'Contract_Date': '11/1/2023',\n",
    "  'Term_start_date': '12/1/2023',\n",
    "  'Term_end_date': '05/31/2024',\n",
    "  'Contract_amount': '$90,000.00'}\n"
   ]
  },
  {
   "cell_type": "code",
   "execution_count": 65,
   "metadata": {},
   "outputs": [
    {
     "name": "stdout",
     "output_type": "stream",
     "text": [
      "\n",
      "\n",
      "\u001b[1m> Entering new AgentExecutor chain...\u001b[0m\n",
      "\u001b[32;1m\u001b[1;3m\n",
      "Invoking: `getting_yearly_amount` with `{'contract': {'Contract_Number': 'C887/36', 'Contract_Date': '11/1/2023', 'Term_start_date': '12/1/2023', 'Term_end_date': '05/31/2024', 'Contract_amount': '$90,000.00'}}`\n",
      "\n",
      "\n",
      "\u001b[0m\u001b[36;1m\u001b[1;3m{2023: 15000.0, 2024: 75000.0}\u001b[0m\u001b[32;1m\u001b[1;3mThe contract with the number C887/36, which has a total contract amount of $90,000.00, is allocated as follows:\n",
      "\n",
      "- For the year 2023, the amount is $15,000.00.\n",
      "- For the year 2024, the amount is $75,000.00.\u001b[0m\n",
      "\n",
      "\u001b[1m> Finished chain.\u001b[0m\n"
     ]
    }
   ],
   "source": [
    "result=agent_executor.invoke({'input':contract, 'messages':[], 'agent_scratchpad':[]})"
   ]
  },
  {
   "cell_type": "code",
   "execution_count": 66,
   "metadata": {},
   "outputs": [
    {
     "data": {
      "text/plain": [
       "{'input': {'Sno': 1,\n",
       "  'Contract_Number': 'C887/36',\n",
       "  'Contract_Date': '11/1/2023',\n",
       "  'Term_start_date': '12/1/2023',\n",
       "  'Term_end_date': '05/31/2024',\n",
       "  'Contract_amount': '$90,000.00'},\n",
       " 'messages': [],\n",
       " 'agent_scratchpad': [],\n",
       " 'output': 'The contract with the number C887/36, which has a total contract amount of $90,000.00, is allocated as follows:\\n\\n- For the year 2023, the amount is $15,000.00.\\n- For the year 2024, the amount is $75,000.00.'}"
      ]
     },
     "execution_count": 66,
     "metadata": {},
     "output_type": "execute_result"
    }
   ],
   "source": [
    "result"
   ]
  },
  {
   "cell_type": "code",
   "execution_count": 67,
   "metadata": {},
   "outputs": [
    {
     "name": "stdout",
     "output_type": "stream",
     "text": [
      "The contract with the number C887/36, which has a total contract amount of $90,000.00, is allocated as follows:\n",
      "\n",
      "- For the year 2023, the amount is $15,000.00.\n",
      "- For the year 2024, the amount is $75,000.00.\n"
     ]
    }
   ],
   "source": [
    "print(result['output'])"
   ]
  }
 ],
 "metadata": {
  "kernelspec": {
   "display_name": "langchain",
   "language": "python",
   "name": "python3"
  },
  "language_info": {
   "codemirror_mode": {
    "name": "ipython",
    "version": 3
   },
   "file_extension": ".py",
   "mimetype": "text/x-python",
   "name": "python",
   "nbconvert_exporter": "python",
   "pygments_lexer": "ipython3",
   "version": "3.12.2"
  }
 },
 "nbformat": 4,
 "nbformat_minor": 2
}

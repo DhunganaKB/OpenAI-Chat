{
 "cells": [
  {
   "cell_type": "code",
   "execution_count": 1,
   "metadata": {},
   "outputs": [],
   "source": [
    "# https://langchain-ai.github.io/langgraph/how-tos/create-react-agent-memory/?h=memory\n",
    "# https://langchain-ai.github.io/langgraph/how-tos/persistence/?h=memo\n",
    "# https://langchain-ai.github.io/langgraph/reference/checkpoints/#langgraph.checkpoint.base.CheckpointMetadata.step"
   ]
  },
  {
   "cell_type": "code",
   "execution_count": 6,
   "metadata": {},
   "outputs": [],
   "source": [
    "import os\n",
    "from langchain_openai import ChatOpenAI\n",
    "from langchain_core.messages import HumanMessage,BaseMessage\n",
    "from langchain_openai import ChatOpenAI\n",
    "import operator\n",
    "from typing import Annotated, TypedDict, List\n",
    "from langgraph.graph import StateGraph, END, MessageGraph, START\n",
    "from IPython.display import Image, display\n",
    "from langchain_community.tools.tavily_search import TavilySearchResults\n",
    "\n",
    "OPENAI_API_KEY=\"sk-proj-xxx\" # https://platform.openai.com/account/api-keys\n",
    "os.environ['OPENAI_API_KEY'] = OPENAI_API_KEY\n",
    "\n",
    "TAVILY_API_KEY=\"tvly-yy\" # https://tavily.com/account/api-keys\n",
    "\n",
    "os.environ['TAVILY_API_KEY'] = TAVILY_API_KEY\n",
    "\n",
    "llm = ChatOpenAI(model='gpt-4o')\n"
   ]
  },
  {
   "cell_type": "code",
   "execution_count": 7,
   "metadata": {},
   "outputs": [
    {
     "name": "stdout",
     "output_type": "stream",
     "text": [
      "CheckpointTuple(config={'configurable': {'thread_id': 'abc123', 'thread_ts': 'unique_checkpoint_id'}}, checkpoint={'id': 'unique_checkpoint_id', 'state': 'current_state_data'}, metadata={'timestamp': '2024-07-10T11:34:28'}, parent_config={'configurable': {'thread_id': 'abc123', 'thread_ts': '2024-07-10T11:34:28'}}, pending_writes=None)\n"
     ]
    }
   ],
   "source": [
    "from langgraph.checkpoint.sqlite import SqliteSaver # type: ignore\n",
    "\n",
    "# Create an in-memory checkpointer\n",
    "memory = SqliteSaver.from_conn_string(\":memory:\")\n",
    "\n",
    "checkpoint_data = {\n",
    "    \"thread_id\": \"abc123\",  # Unique identifier for the thread\n",
    "    \"thread_ts\": \"2024-07-10T11:34:28\",  # Thread timestamp\n",
    "    \"checkpoint\": {\n",
    "        \"id\": \"unique_checkpoint_id\",  # Assuming 'id' is needed\n",
    "        \"state\": \"current_state_data\"\n",
    "    },\n",
    "    \"metadata\": {\"timestamp\": \"2024-07-10T11:34:28\"}\n",
    "}\n",
    "\n",
    "# Save the checkpoint,  Include thread_ts\n",
    "saved_config = memory.put(\n",
    "    config={\"configurable\": {\"thread_id\": checkpoint_data[\"thread_id\"], \"thread_ts\": checkpoint_data[\"thread_ts\"]}},\n",
    "    checkpoint=checkpoint_data[\"checkpoint\"],\n",
    "    metadata=checkpoint_data[\"metadata\"]\n",
    ")\n",
    "\n",
    "\n",
    "# Retrieve the checkpoint data\n",
    "config = {\"configurable\": {\"thread_id\": checkpoint_data[\"thread_id\"]}}\n",
    "checkpoints = list(memory.list(config))  # List all checkpoints for the given thread_id\n",
    "\n",
    "# Print retrieved checkpoints\n",
    "for checkpoint in checkpoints:\n",
    "    print(checkpoint)\n",
    "\n",
    "# retrieved output\n",
    "# CheckpointTuple(config={'configurable': {'thread_id': 'abc123', 'thread_ts': 'unique_checkpoint_id'}}, # type: ignore\n",
    "# checkpoint={'id': 'unique_checkpoint_id', 'state': 'current_state_data'},\n",
    "# metadata={'timestamp': '2024-07-10T11:34:28'},\n",
    "# parent_config={'configurable': {'thread_id': 'abc123', 'thread_ts': '2024-07-10T11:34:28'}},\n",
    "# pending_writes=None)\n"
   ]
  },
  {
   "cell_type": "code",
   "execution_count": 8,
   "metadata": {},
   "outputs": [
    {
     "name": "stdout",
     "output_type": "stream",
     "text": [
      "Tables in the database: [('checkpoints',), ('writes',)]\n",
      "Data in the 'checkpoints' table:\n",
      "('abc123', 'unique_checkpoint_id', '2024-07-10T11:34:28', b'{\"id\": \"unique_checkpoint_id\", \"state\": \"current_state_data\"}', b'{\"timestamp\": \"2024-07-10T11:34:28\"}')\n"
     ]
    }
   ],
   "source": [
    "## For persistent storage, SQLite can be used to save checkpoints.\n",
    "import sqlite3\n",
    "from langgraph.checkpoint.sqlite import SqliteSaver # type: ignore\n",
    "\n",
    "# Connect to an SQLite database\n",
    "conn = sqlite3.connect(\"checkpoints.sqlite\")\n",
    "memory = SqliteSaver(conn)\n",
    "\n",
    "checkpoint_data = {\n",
    "    \"thread_id\": \"abc123\",  # Unique identifier for the thread\n",
    "    \"thread_ts\": \"2024-07-10T11:34:28\",  # Thread timestamp\n",
    "    \"checkpoint\": {\n",
    "        \"id\": \"unique_checkpoint_id\",  # Assuming 'id' is needed\n",
    "        \"state\": \"current_state_data\"\n",
    "    },\n",
    "    \"metadata\": {\"timestamp\": \"2024-07-10T11:34:28\"}\n",
    "}\n",
    "\n",
    "# Save the checkpoint\n",
    "saved_config = memory.put(\n",
    "    config={\"configurable\": {\"thread_id\": checkpoint_data[\"thread_id\"], \"thread_ts\": checkpoint_data[\"thread_ts\"]}},\n",
    "    checkpoint=checkpoint_data[\"checkpoint\"],\n",
    "    metadata=checkpoint_data[\"metadata\"]\n",
    ")\n",
    "\n",
    "cursor = conn.cursor()\n",
    "\n",
    "# Retrieve a list of all tables in the database\n",
    "cursor.execute(\"SELECT name FROM sqlite_master WHERE type='table';\")\n",
    "tables = cursor.fetchall()\n",
    "\n",
    "# Print the list of tables\n",
    "print(\"Tables in the database:\", tables)\n",
    "\n",
    "# let's check the table contents\n",
    "checkpoint_table=tables[0][0]\n",
    "\n",
    "\n",
    "# Retrieve all data from the 'checkpoints' table\n",
    "cursor.execute(f\"SELECT * FROM {checkpoint_table};\")\n",
    "all_data = cursor.fetchall()\n",
    "\n",
    "# Print each row in the table\n",
    "print(\"Data in the 'checkpoints' table:\")\n",
    "for row in all_data:\n",
    "    print(row)\n"
   ]
  },
  {
   "cell_type": "markdown",
   "metadata": {},
   "source": [
    "### Create a graph with and without memory"
   ]
  },
  {
   "cell_type": "code",
   "execution_count": 9,
   "metadata": {},
   "outputs": [],
   "source": [
    "from typing import Annotated\n",
    "from typing_extensions import TypedDict\n",
    "from langgraph.graph.message import add_messages\n",
    "from langchain_core.tools import tool\n",
    "from langgraph.prebuilt import ToolNode\n",
    "from langgraph.graph import StateGraph, START\n",
    "from langchain_community.tools.tavily_search import TavilySearchResults\n",
    "\n",
    "class State(TypedDict):\n",
    "    messages: Annotated[list, add_messages]\n",
    "\n",
    "search = TavilySearchResults(max_results=5)\n",
    "\n",
    "tools = [search]\n",
    "tool_node = ToolNode(tools)\n",
    "\n",
    "llm = ChatOpenAI(model='gpt-4o', streaming=True)\n",
    "bound_llm = llm.bind_tools(tools)\n",
    "\n",
    "# Define Graph and components\n",
    "def should_continue(state: State):\n",
    "    \"\"\"Return the next node to execute.\"\"\"\n",
    "    last_message = state[\"messages\"][-1]\n",
    "    # If there is no function call, then we finish\n",
    "    if not last_message.tool_calls:\n",
    "        return \"__end__\"\n",
    "    # Otherwise if there is, we continue\n",
    "    return \"action\"\n",
    "\n",
    "# Define the function that calls the model\n",
    "def call_model(state: State):\n",
    "    response = llm.invoke(state[\"messages\"])\n",
    "    # We return a list, because this will get added to the existing list\n",
    "    return {\"messages\": response}"
   ]
  },
  {
   "cell_type": "code",
   "execution_count": 16,
   "metadata": {},
   "outputs": [
    {
     "data": {
      "image/jpeg": "[encoded data removed]",
      "text/plain": [
       "<IPython.core.display.Image object>"
      ]
     },
     "metadata": {},
     "output_type": "display_data"
    }
   ],
   "source": [
    "# Define a new graph\n",
    "workflow = StateGraph(State)\n",
    "\n",
    "# Define the two nodes we will cycle between\n",
    "workflow.add_node(\"agent\", call_model)\n",
    "workflow.add_node(\"action\", tool_node)\n",
    "\n",
    "# Set the entrypoint as `agent`\n",
    "# This means that this node is the first one called\n",
    "workflow.add_edge(START, \"agent\")\n",
    "\n",
    "# We now add a conditional edge\n",
    "\n",
    "workflow.add_conditional_edges(\n",
    "    \"agent\", # start from agent node\n",
    "\n",
    "    should_continue, # apply this condition\n",
    ")\n",
    "\n",
    "# We now add a normal edge from `tools` to `agent`.\n",
    "#  After `tools` is called, `agent` node is called next.\n",
    "workflow.add_edge(\"action\", \"agent\")\n",
    "\n",
    "###### Adding Memory -----------------\n",
    "\n",
    "from langgraph.checkpoint.sqlite import SqliteSaver\n",
    "memory = SqliteSaver.from_conn_string(\":memory:\")\n",
    "graph = workflow.compile(checkpointer=memory)\n",
    "\n",
    "# Without memory\n",
    "#graph = workflow.compile()\n",
    "\n",
    "display(Image(graph.get_graph().draw_mermaid_png()))\n"
   ]
  },
  {
   "cell_type": "markdown",
   "metadata": {},
   "source": [
    "## Interacting with agent"
   ]
  },
  {
   "cell_type": "code",
   "execution_count": 17,
   "metadata": {},
   "outputs": [
    {
     "data": {
      "text/plain": [
       "{'messages': [HumanMessage(content='What are the best places to visit in St. Louis? Is the Gateway Arch the top attraction?', id='548dd019-8474-4e1c-b1fc-1ee8e7614877'),\n",
       "  AIMessage(content=\"St. Louis, Missouri, is a vibrant city with a rich history and plenty of attractions to suit a wide range of interests. Here are some of the best places to visit in St. Louis:\\n\\n### 1. **Gateway Arch**\\nYes, the Gateway Arch is often considered the top attraction in St. Louis. This iconic 630-foot monument symbolizes the westward expansion of the United States and offers stunning views of the city and the Mississippi River from its observation deck.\\n\\n### 2. **Forest Park**\\nOne of the largest urban parks in the United States, Forest Park is home to several major attractions, including:\\n- **Saint Louis Art Museum**: Free admission and a vast collection of art.\\n- **Saint Louis Zoo**: Also free and considered one of the best zoos in the country.\\n- **Missouri History Museum**: Offers exhibits on the region’s history.\\n- **Saint Louis Science Center**: Interactive exhibits suitable for all ages.\\n- **The Muny**: The oldest and largest outdoor musical theatre in the country.\\n\\n### 3. **City Museum**\\nThis isn't your typical museum. City Museum is an eclectic mix of playground, funhouse, and architectural marvel made from repurposed industrial objects. It's a great place for both kids and adults to explore and enjoy.\\n\\n### 4. **Missouri Botanical Garden**\\nOne of the oldest botanical gardens in the United States, it features beautiful landscapes, historic architecture, and a variety of themed gardens.\\n\\n### 5. **Anheuser-Busch Brewery**\\nTake a tour to learn about the brewing process, the history of this iconic American brand, and, of course, enjoy some samples.\\n\\n### 6. **The Loop**\\nA vibrant entertainment and dining district located in University City, just outside of St. Louis. It’s known for its unique shops, live music venues, and the famous St. Louis Walk of Fame.\\n\\n### 7. **St. Louis Cathedral Basilica**\\nKnown for its stunning mosaics, the Cathedral Basilica of St. Louis is a beautiful and serene space that offers a glimpse into religious art and architecture.\\n\\n### 8. **Delmar Loop**\\nA bustling urban neighborhood that offers eclectic shops, unique restaurants, and vibrant nightlife. It’s also home to The Pageant, a popular concert venue.\\n\\n### 9. **Grant’s Farm**\\nThis historic farm once owned by Ulysses S. Grant is now a family-friendly attraction featuring animal encounters, historic buildings, and a fun tram ride.\\n\\n### 10. **St. Louis Union Station**\\nA redeveloped historic train station that now includes an aquarium, a Ferris wheel, restaurants, and entertainment options.\\n\\nWhile the Gateway Arch is undeniably a highlight and a must-see, St. Louis has a diverse array of attractions that make it a fascinating city to explore. Whether you're interested in history, nature, art, or simply having fun, there’s something for everyone in St. Louis.\", response_metadata={'finish_reason': 'stop'}, id='run-535a3ea2-d3e5-497e-bd48-7cf4756e388e-0')]}"
      ]
     },
     "execution_count": 17,
     "metadata": {},
     "output_type": "execute_result"
    }
   ],
   "source": [
    "config = {\"configurable\": {\"thread_id\": \"0\"}}\n",
    "input_message = HumanMessage(content=\"What are the best places to visit in St. Louis? Is the Gateway Arch the top attraction?\")\n",
    "graph.invoke({\"messages\": [input_message]}, config)"
   ]
  },
  {
   "cell_type": "code",
   "execution_count": 18,
   "metadata": {},
   "outputs": [
    {
     "data": {
      "text/plain": [
       "{'messages': [HumanMessage(content='What are the best places to visit in St. Louis? Is the Gateway Arch the top attraction?', id='548dd019-8474-4e1c-b1fc-1ee8e7614877'),\n",
       "  AIMessage(content=\"St. Louis, Missouri, is a vibrant city with a rich history and plenty of attractions to suit a wide range of interests. Here are some of the best places to visit in St. Louis:\\n\\n### 1. **Gateway Arch**\\nYes, the Gateway Arch is often considered the top attraction in St. Louis. This iconic 630-foot monument symbolizes the westward expansion of the United States and offers stunning views of the city and the Mississippi River from its observation deck.\\n\\n### 2. **Forest Park**\\nOne of the largest urban parks in the United States, Forest Park is home to several major attractions, including:\\n- **Saint Louis Art Museum**: Free admission and a vast collection of art.\\n- **Saint Louis Zoo**: Also free and considered one of the best zoos in the country.\\n- **Missouri History Museum**: Offers exhibits on the region’s history.\\n- **Saint Louis Science Center**: Interactive exhibits suitable for all ages.\\n- **The Muny**: The oldest and largest outdoor musical theatre in the country.\\n\\n### 3. **City Museum**\\nThis isn't your typical museum. City Museum is an eclectic mix of playground, funhouse, and architectural marvel made from repurposed industrial objects. It's a great place for both kids and adults to explore and enjoy.\\n\\n### 4. **Missouri Botanical Garden**\\nOne of the oldest botanical gardens in the United States, it features beautiful landscapes, historic architecture, and a variety of themed gardens.\\n\\n### 5. **Anheuser-Busch Brewery**\\nTake a tour to learn about the brewing process, the history of this iconic American brand, and, of course, enjoy some samples.\\n\\n### 6. **The Loop**\\nA vibrant entertainment and dining district located in University City, just outside of St. Louis. It’s known for its unique shops, live music venues, and the famous St. Louis Walk of Fame.\\n\\n### 7. **St. Louis Cathedral Basilica**\\nKnown for its stunning mosaics, the Cathedral Basilica of St. Louis is a beautiful and serene space that offers a glimpse into religious art and architecture.\\n\\n### 8. **Delmar Loop**\\nA bustling urban neighborhood that offers eclectic shops, unique restaurants, and vibrant nightlife. It’s also home to The Pageant, a popular concert venue.\\n\\n### 9. **Grant’s Farm**\\nThis historic farm once owned by Ulysses S. Grant is now a family-friendly attraction featuring animal encounters, historic buildings, and a fun tram ride.\\n\\n### 10. **St. Louis Union Station**\\nA redeveloped historic train station that now includes an aquarium, a Ferris wheel, restaurants, and entertainment options.\\n\\nWhile the Gateway Arch is undeniably a highlight and a must-see, St. Louis has a diverse array of attractions that make it a fascinating city to explore. Whether you're interested in history, nature, art, or simply having fun, there’s something for everyone in St. Louis.\", response_metadata={'finish_reason': 'stop'}, id='run-535a3ea2-d3e5-497e-bd48-7cf4756e388e-0'),\n",
       "  HumanMessage(content='Which place did I ask about previously?', id='6b9f4e9a-b3d3-4019-ad07-f9c3d5b653e8'),\n",
       "  AIMessage(content='You asked about the Gateway Arch in St. Louis and whether it is the top attraction in the city.', response_metadata={'finish_reason': 'stop'}, id='run-6bbbcffb-6d67-41e9-bbe1-14216f169846-0')]}"
      ]
     },
     "execution_count": 18,
     "metadata": {},
     "output_type": "execute_result"
    }
   ],
   "source": [
    "input_message = HumanMessage(content=\"Which place did I ask about previously?\")\n",
    "graph.invoke({\"messages\": [input_message]}, config)\n"
   ]
  },
  {
   "cell_type": "code",
   "execution_count": 19,
   "metadata": {},
   "outputs": [
    {
     "data": {
      "text/plain": [
       "{'messages': [HumanMessage(content='When was the Great Wall of China built?', id='8f193ea5-a3ad-4393-99fe-38d4ea5eb9a2'),\n",
       "  AIMessage(content='The construction of the Great Wall of China spans several dynasties, but the most well-known sections were built during the Ming Dynasty (1368–1644). The origins of the wall date back to earlier periods, with initial fortifications constructed as early as the 7th century BCE during the Warring States period. These early walls were built by individual states to defend against invasions.\\n\\nThe first emperor of a unified China, Qin Shi Huang (r. 221–210 BCE), connected and expanded several of these walls to form a more extensive defense system. However, the majority of the existing wall that we see today, including its most iconic sections, was constructed during the Ming Dynasty to protect against Mongol invasions. The work continued over several centuries, with significant construction efforts occurring from the late 14th century to the 17th century.\\n\\nSo, while the origins of the Great Wall can be traced back over 2,000 years, the most recognizable and well-preserved sections were built between the 14th and 17th centuries.', response_metadata={'finish_reason': 'stop'}, id='run-9b834e33-4d9e-46f0-9fc9-0a45ae79d6ed-0')]}"
      ]
     },
     "execution_count": 19,
     "metadata": {},
     "output_type": "execute_result"
    }
   ],
   "source": [
    "config_new = {\"configurable\": {\"thread_id\": \"1\"}}\n",
    "input_message = HumanMessage(content=\"When was the Great Wall of China built?\")\n",
    "graph.invoke({\"messages\": [input_message]}, config_new)"
   ]
  },
  {
   "cell_type": "code",
   "execution_count": 20,
   "metadata": {},
   "outputs": [
    {
     "data": {
      "text/plain": [
       "{'messages': [HumanMessage(content='What are the best places to visit in St. Louis? Is the Gateway Arch the top attraction?', id='548dd019-8474-4e1c-b1fc-1ee8e7614877'),\n",
       "  AIMessage(content=\"St. Louis, Missouri, is a vibrant city with a rich history and plenty of attractions to suit a wide range of interests. Here are some of the best places to visit in St. Louis:\\n\\n### 1. **Gateway Arch**\\nYes, the Gateway Arch is often considered the top attraction in St. Louis. This iconic 630-foot monument symbolizes the westward expansion of the United States and offers stunning views of the city and the Mississippi River from its observation deck.\\n\\n### 2. **Forest Park**\\nOne of the largest urban parks in the United States, Forest Park is home to several major attractions, including:\\n- **Saint Louis Art Museum**: Free admission and a vast collection of art.\\n- **Saint Louis Zoo**: Also free and considered one of the best zoos in the country.\\n- **Missouri History Museum**: Offers exhibits on the region’s history.\\n- **Saint Louis Science Center**: Interactive exhibits suitable for all ages.\\n- **The Muny**: The oldest and largest outdoor musical theatre in the country.\\n\\n### 3. **City Museum**\\nThis isn't your typical museum. City Museum is an eclectic mix of playground, funhouse, and architectural marvel made from repurposed industrial objects. It's a great place for both kids and adults to explore and enjoy.\\n\\n### 4. **Missouri Botanical Garden**\\nOne of the oldest botanical gardens in the United States, it features beautiful landscapes, historic architecture, and a variety of themed gardens.\\n\\n### 5. **Anheuser-Busch Brewery**\\nTake a tour to learn about the brewing process, the history of this iconic American brand, and, of course, enjoy some samples.\\n\\n### 6. **The Loop**\\nA vibrant entertainment and dining district located in University City, just outside of St. Louis. It’s known for its unique shops, live music venues, and the famous St. Louis Walk of Fame.\\n\\n### 7. **St. Louis Cathedral Basilica**\\nKnown for its stunning mosaics, the Cathedral Basilica of St. Louis is a beautiful and serene space that offers a glimpse into religious art and architecture.\\n\\n### 8. **Delmar Loop**\\nA bustling urban neighborhood that offers eclectic shops, unique restaurants, and vibrant nightlife. It’s also home to The Pageant, a popular concert venue.\\n\\n### 9. **Grant’s Farm**\\nThis historic farm once owned by Ulysses S. Grant is now a family-friendly attraction featuring animal encounters, historic buildings, and a fun tram ride.\\n\\n### 10. **St. Louis Union Station**\\nA redeveloped historic train station that now includes an aquarium, a Ferris wheel, restaurants, and entertainment options.\\n\\nWhile the Gateway Arch is undeniably a highlight and a must-see, St. Louis has a diverse array of attractions that make it a fascinating city to explore. Whether you're interested in history, nature, art, or simply having fun, there’s something for everyone in St. Louis.\", response_metadata={'finish_reason': 'stop'}, id='run-535a3ea2-d3e5-497e-bd48-7cf4756e388e-0'),\n",
       "  HumanMessage(content='Which place did I ask about previously?', id='6b9f4e9a-b3d3-4019-ad07-f9c3d5b653e8'),\n",
       "  AIMessage(content='You asked about the Gateway Arch in St. Louis and whether it is the top attraction in the city.', response_metadata={'finish_reason': 'stop'}, id='run-6bbbcffb-6d67-41e9-bbe1-14216f169846-0'),\n",
       "  HumanMessage(content='Describe the historical significance of this location.', id='24a25d22-288b-4d5b-a9f4-1d3c422f4b56'),\n",
       "  AIMessage(content=\"The Gateway Arch in St. Louis, Missouri, is a monument of immense historical significance, both symbolically and architecturally. Here are some key points about its historical importance:\\n\\n### Symbol of Westward Expansion\\n- **Commemoration**: The Gateway Arch is part of the Jefferson National Expansion Memorial and was built to commemorate the westward expansion of the United States. It honors Thomas Jefferson's role in opening the West, the pioneers who helped shape the history of the American frontier, and Dred Scott, who sued for his freedom in the Old Courthouse nearby.\\n\\n### Architectural Marvel\\n- **Design and Construction**: Designed by Finnish-American architect Eero Saarinen and structural engineer Hannskarl Bandel, the Gateway Arch's construction began on February 12, 1963, and was completed on October 28, 1965. At 630 feet (192 meters) tall, it stands as the tallest man-made monument in the United States.\\n- **Engineering Feat**: The Arch is constructed from stainless steel and is known for its sleek, modernist design. Its construction was a significant engineering challenge, involving precise measurements and innovative techniques to ensure stability and symmetry.\\n\\n### Cultural and Historical Context\\n- **Jefferson National Expansion Memorial**: The Arch is part of the larger Jefferson National Expansion Memorial, which includes the Old Courthouse, where several significant cases were heard, including the Dred Scott case that heightened national tensions over slavery.\\n- **Symbol of St. Louis**: Since its completion, the Gateway Arch has become an iconic symbol of St. Louis and is often used to represent the city in various forms of media. It also stands as a gateway to the West, reflecting the city's historical role as a starting point for pioneers heading west.\\n\\n### Tourism and Education\\n- **Visitor Experience**: Today, visitors can take a tram ride to the top of the Arch for panoramic views of the city and the Mississippi River. The Arch grounds and the recently renovated Museum at the Gateway Arch provide educational exhibits about the history of westward expansion, the construction of the Arch, and the broader context of American history during the 19th century.\\n\\n### Preservation and Legacy\\n- **National Historic Landmark**: Designated as a National Historic Landmark, the Gateway Arch and its surrounding park have been preserved to maintain their historical significance and provide a space for education and reflection on America's westward expansion.\\n\\nIn summary, the Gateway Arch serves as a powerful symbol of American history, celebrating the spirit of exploration and the monumental efforts of those who expanded the nation's frontiers. Its innovative design and construction also mark it as a significant achievement in modern architecture and engineering.\", response_metadata={'finish_reason': 'stop'}, id='run-41629dc4-e656-466f-8beb-3197cde6bd0f-0')]}"
      ]
     },
     "execution_count": 20,
     "metadata": {},
     "output_type": "execute_result"
    }
   ],
   "source": [
    "input_message = HumanMessage(content=\"Describe the historical significance of this location.\")\n",
    "graph.invoke({\"messages\": [input_message]}, config)\n"
   ]
  },
  {
   "cell_type": "code",
   "execution_count": 21,
   "metadata": {},
   "outputs": [],
   "source": [
    "state_history = graph.get_state_history(config)\n",
    "all_snapshots=[x for x in state_history]"
   ]
  },
  {
   "cell_type": "code",
   "execution_count": 22,
   "metadata": {},
   "outputs": [
    {
     "data": {
      "text/plain": [
       "[HumanMessage(content='What are the best places to visit in St. Louis? Is the Gateway Arch the top attraction?', id='548dd019-8474-4e1c-b1fc-1ee8e7614877'),\n",
       " AIMessage(content=\"St. Louis, Missouri, is a vibrant city with a rich history and plenty of attractions to suit a wide range of interests. Here are some of the best places to visit in St. Louis:\\n\\n### 1. **Gateway Arch**\\nYes, the Gateway Arch is often considered the top attraction in St. Louis. This iconic 630-foot monument symbolizes the westward expansion of the United States and offers stunning views of the city and the Mississippi River from its observation deck.\\n\\n### 2. **Forest Park**\\nOne of the largest urban parks in the United States, Forest Park is home to several major attractions, including:\\n- **Saint Louis Art Museum**: Free admission and a vast collection of art.\\n- **Saint Louis Zoo**: Also free and considered one of the best zoos in the country.\\n- **Missouri History Museum**: Offers exhibits on the region’s history.\\n- **Saint Louis Science Center**: Interactive exhibits suitable for all ages.\\n- **The Muny**: The oldest and largest outdoor musical theatre in the country.\\n\\n### 3. **City Museum**\\nThis isn't your typical museum. City Museum is an eclectic mix of playground, funhouse, and architectural marvel made from repurposed industrial objects. It's a great place for both kids and adults to explore and enjoy.\\n\\n### 4. **Missouri Botanical Garden**\\nOne of the oldest botanical gardens in the United States, it features beautiful landscapes, historic architecture, and a variety of themed gardens.\\n\\n### 5. **Anheuser-Busch Brewery**\\nTake a tour to learn about the brewing process, the history of this iconic American brand, and, of course, enjoy some samples.\\n\\n### 6. **The Loop**\\nA vibrant entertainment and dining district located in University City, just outside of St. Louis. It’s known for its unique shops, live music venues, and the famous St. Louis Walk of Fame.\\n\\n### 7. **St. Louis Cathedral Basilica**\\nKnown for its stunning mosaics, the Cathedral Basilica of St. Louis is a beautiful and serene space that offers a glimpse into religious art and architecture.\\n\\n### 8. **Delmar Loop**\\nA bustling urban neighborhood that offers eclectic shops, unique restaurants, and vibrant nightlife. It’s also home to The Pageant, a popular concert venue.\\n\\n### 9. **Grant’s Farm**\\nThis historic farm once owned by Ulysses S. Grant is now a family-friendly attraction featuring animal encounters, historic buildings, and a fun tram ride.\\n\\n### 10. **St. Louis Union Station**\\nA redeveloped historic train station that now includes an aquarium, a Ferris wheel, restaurants, and entertainment options.\\n\\nWhile the Gateway Arch is undeniably a highlight and a must-see, St. Louis has a diverse array of attractions that make it a fascinating city to explore. Whether you're interested in history, nature, art, or simply having fun, there’s something for everyone in St. Louis.\", response_metadata={'finish_reason': 'stop'}, id='run-535a3ea2-d3e5-497e-bd48-7cf4756e388e-0'),\n",
       " HumanMessage(content='Which place did I ask about previously?', id='6b9f4e9a-b3d3-4019-ad07-f9c3d5b653e8'),\n",
       " AIMessage(content='You asked about the Gateway Arch in St. Louis and whether it is the top attraction in the city.', response_metadata={'finish_reason': 'stop'}, id='run-6bbbcffb-6d67-41e9-bbe1-14216f169846-0'),\n",
       " HumanMessage(content='Describe the historical significance of this location.', id='24a25d22-288b-4d5b-a9f4-1d3c422f4b56'),\n",
       " AIMessage(content=\"The Gateway Arch in St. Louis, Missouri, is a monument of immense historical significance, both symbolically and architecturally. Here are some key points about its historical importance:\\n\\n### Symbol of Westward Expansion\\n- **Commemoration**: The Gateway Arch is part of the Jefferson National Expansion Memorial and was built to commemorate the westward expansion of the United States. It honors Thomas Jefferson's role in opening the West, the pioneers who helped shape the history of the American frontier, and Dred Scott, who sued for his freedom in the Old Courthouse nearby.\\n\\n### Architectural Marvel\\n- **Design and Construction**: Designed by Finnish-American architect Eero Saarinen and structural engineer Hannskarl Bandel, the Gateway Arch's construction began on February 12, 1963, and was completed on October 28, 1965. At 630 feet (192 meters) tall, it stands as the tallest man-made monument in the United States.\\n- **Engineering Feat**: The Arch is constructed from stainless steel and is known for its sleek, modernist design. Its construction was a significant engineering challenge, involving precise measurements and innovative techniques to ensure stability and symmetry.\\n\\n### Cultural and Historical Context\\n- **Jefferson National Expansion Memorial**: The Arch is part of the larger Jefferson National Expansion Memorial, which includes the Old Courthouse, where several significant cases were heard, including the Dred Scott case that heightened national tensions over slavery.\\n- **Symbol of St. Louis**: Since its completion, the Gateway Arch has become an iconic symbol of St. Louis and is often used to represent the city in various forms of media. It also stands as a gateway to the West, reflecting the city's historical role as a starting point for pioneers heading west.\\n\\n### Tourism and Education\\n- **Visitor Experience**: Today, visitors can take a tram ride to the top of the Arch for panoramic views of the city and the Mississippi River. The Arch grounds and the recently renovated Museum at the Gateway Arch provide educational exhibits about the history of westward expansion, the construction of the Arch, and the broader context of American history during the 19th century.\\n\\n### Preservation and Legacy\\n- **National Historic Landmark**: Designated as a National Historic Landmark, the Gateway Arch and its surrounding park have been preserved to maintain their historical significance and provide a space for education and reflection on America's westward expansion.\\n\\nIn summary, the Gateway Arch serves as a powerful symbol of American history, celebrating the spirit of exploration and the monumental efforts of those who expanded the nation's frontiers. Its innovative design and construction also mark it as a significant achievement in modern architecture and engineering.\", response_metadata={'finish_reason': 'stop'}, id='run-41629dc4-e656-466f-8beb-3197cde6bd0f-0')]"
      ]
     },
     "execution_count": 22,
     "metadata": {},
     "output_type": "execute_result"
    }
   ],
   "source": [
    "all_snapshots[0].values['messages']\n"
   ]
  }
 ],
 "metadata": {
  "kernelspec": {
   "display_name": "langchain",
   "language": "python",
   "name": "python3"
  },
  "language_info": {
   "codemirror_mode": {
    "name": "ipython",
    "version": 3
   },
   "file_extension": ".py",
   "mimetype": "text/x-python",
   "name": "python",
   "nbconvert_exporter": "python",
   "pygments_lexer": "ipython3",
   "version": "3.12.2"
  }
 },
 "nbformat": 4,
 "nbformat_minor": 2
}

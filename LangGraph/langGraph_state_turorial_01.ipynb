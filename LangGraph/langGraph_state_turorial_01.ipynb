{
 "cells": [
  {
   "cell_type": "code",
   "execution_count": null,
   "metadata": {},
   "outputs": [],
   "source": [
    "## This notebook offers a simple example of how to construct a LangGraph."
   ]
  },
  {
   "cell_type": "markdown",
   "metadata": {},
   "source": [
    "## Example - 1"
   ]
  },
  {
   "cell_type": "code",
   "execution_count": 32,
   "metadata": {},
   "outputs": [
    {
     "name": "stdout",
     "output_type": "stream",
     "text": [
      "{'x': 1}\n",
      "{'x': 2}\n"
     ]
    },
    {
     "data": {
      "text/plain": [
       "{'y': 4}"
      ]
     },
     "execution_count": 32,
     "metadata": {},
     "output_type": "execute_result"
    }
   ],
   "source": [
    "from langgraph.graph import START, StateGraph\n",
    "from langgraph.graph import StateGraph,  END\n",
    "from IPython.display import Image, display\n",
    "\n",
    "def add(state, config):\n",
    "    print(state)\n",
    "    return {\"x\": state[\"x\"] + 1}\n",
    "\n",
    "def multiply(state, config):\n",
    "    print(state)\n",
    "    return {\"y\": state[\"x\"]*2}\n",
    "\n",
    "builder = StateGraph(dict)\n",
    "\n",
    "builder.add_node(\"add\", add)\n",
    "builder.add_node(\"multiply\", multiply)\n",
    "\n",
    "builder.set_entry_point(\"add\")\n",
    "\n",
    "builder.add_edge(\"add\", \"multiply\")\n",
    "builder.add_edge(\"multiply\", END)\n",
    "\n",
    "graph = builder.compile()\n",
    "\n",
    "initial_state = {\"x\":1}\n",
    "graph.invoke(initial_state)\n"
   ]
  },
  {
   "cell_type": "code",
   "execution_count": 33,
   "metadata": {},
   "outputs": [
    {
     "data": {
      "image/jpeg": "[encoded data removed]",
      "text/plain": [
       "<IPython.core.display.Image object>"
      ]
     },
     "metadata": {},
     "output_type": "display_data"
    }
   ],
   "source": [
    "display(Image(graph.get_graph(xray=True).draw_mermaid_png()))"
   ]
  },
  {
   "cell_type": "code",
   "execution_count": 40,
   "metadata": {},
   "outputs": [
    {
     "data": {
      "text/plain": [
       "{('__start__', 'a'), ('a', 'b'), ('b', '__end__')}"
      ]
     },
     "execution_count": 40,
     "metadata": {},
     "output_type": "execute_result"
    }
   ],
   "source": [
    "builder.edges"
   ]
  },
  {
   "cell_type": "code",
   "execution_count": 41,
   "metadata": {},
   "outputs": [
    {
     "data": {
      "text/plain": [
       "{'a': NodeSpec(runnable=a(recurse=True), metadata=None),\n",
       " 'b': NodeSpec(runnable=b(recurse=True), metadata=None)}"
      ]
     },
     "execution_count": 41,
     "metadata": {},
     "output_type": "execute_result"
    }
   ],
   "source": [
    "builder.nodes"
   ]
  },
  {
   "cell_type": "code",
   "execution_count": 42,
   "metadata": {},
   "outputs": [
    {
     "data": {
      "text/plain": [
       "__main__.State"
      ]
     },
     "execution_count": 42,
     "metadata": {},
     "output_type": "execute_result"
    }
   ],
   "source": [
    "builder.schema"
   ]
  },
  {
   "cell_type": "markdown",
   "metadata": {},
   "source": [
    "## Example - 2"
   ]
  },
  {
   "cell_type": "code",
   "execution_count": 34,
   "metadata": {},
   "outputs": [
    {
     "name": "stdout",
     "output_type": "stream",
     "text": [
      "{'messages': [{'x': 1}]}\n",
      "{'messages': [{'x': 1}, {'x': 2}]}\n"
     ]
    },
    {
     "data": {
      "text/plain": [
       "{'messages': [{'x': 1}, {'x': 2}, {'x': 4}]}"
      ]
     },
     "execution_count": 34,
     "metadata": {},
     "output_type": "execute_result"
    }
   ],
   "source": [
    "import operator\n",
    "from typing import Annotated, TypedDict, List\n",
    "from langgraph.graph import StateGraph,  END\n",
    "from IPython.display import Image, display\n",
    "\n",
    "class State(TypedDict):\n",
    "    messages: Annotated[List[str], operator.add]\n",
    "\n",
    "def add(state, config):\n",
    "    print(state)\n",
    "    msg = state['messages'][-1]\n",
    "    response = {\"x\": msg[\"x\"] + 1}\n",
    "    return {\"messages\": [response]}\n",
    "\n",
    "def multiply(state, config):\n",
    "    print(state)\n",
    "    msg = state['messages'][-1]\n",
    "    response = {\"x\": msg[\"x\"]*2}\n",
    "    return {\"messages\": [response]}\n",
    "\n",
    "builder = StateGraph(State)\n",
    "\n",
    "builder.add_node(\"my_node1\", add)\n",
    "builder.add_node(\"my_node2\", multiply)\n",
    "builder.set_entry_point(\"my_node1\")\n",
    "\n",
    "builder.add_edge(\"my_node1\", \"my_node2\")\n",
    "builder.add_edge(\"my_node2\", END)\n",
    "\n",
    "graph = builder.compile()\n",
    "\n",
    "input_state = {'messages': [{\"x\": 1}]}\n",
    "\n",
    "graph.invoke(input_state)\n"
   ]
  },
  {
   "cell_type": "code",
   "execution_count": 35,
   "metadata": {},
   "outputs": [
    {
     "data": {
      "image/jpeg": "[encoded data removed]",
      "text/plain": [
       "<IPython.core.display.Image object>"
      ]
     },
     "metadata": {},
     "output_type": "display_data"
    }
   ],
   "source": [
    "display(Image(graph.get_graph(xray=True).draw_mermaid_png()))"
   ]
  },
  {
   "cell_type": "markdown",
   "metadata": {},
   "source": [
    "## Example - 3"
   ]
  },
  {
   "cell_type": "code",
   "execution_count": 36,
   "metadata": {},
   "outputs": [
    {
     "name": "stdout",
     "output_type": "stream",
     "text": [
      "{'messages': ['Hello', 'World']}\n"
     ]
    }
   ],
   "source": [
    "import operator\n",
    "from typing import Annotated, TypedDict, List\n",
    "from langgraph.graph import StateGraph,  END\n",
    "from IPython.display import Image, display\n",
    "\n",
    "# Define the State schema\n",
    "class State(TypedDict):\n",
    "    messages: Annotated[List[str], operator.add]\n",
    "\n",
    "# Create a StateGraph instance\n",
    "builder = StateGraph(State)\n",
    "\n",
    "# Add a node that returns a value\n",
    "class ReturnNodeValue:\n",
    "    def __init__(self, value: str):\n",
    "        self.value = value\n",
    "\n",
    "    def __call__(self, state: State) -> dict:\n",
    "        return {\"messages\": [self.value]}\n",
    "\n",
    "# Add nodes to the graph\n",
    "builder.add_node(\"a\", ReturnNodeValue(\"Hello\"))\n",
    "builder.add_node(\"b\", ReturnNodeValue(\"World\"))\n",
    "builder.set_entry_point(\"a\")\n",
    "\n",
    "builder.add_edge(\"a\", \"b\")\n",
    "builder.add_edge(\"b\", END)\n",
    "\n",
    "# Compile the graph\n",
    "graph = builder.compile()\n",
    "\n",
    "# Invoke the graph with an initial state\n",
    "initial_state = {\"messages\": []}\n",
    "result = graph.invoke(initial_state)\n",
    "\n",
    "# Print the final result\n",
    "print(result)"
   ]
  },
  {
   "cell_type": "code",
   "execution_count": 37,
   "metadata": {},
   "outputs": [
    {
     "data": {
      "image/jpeg": "[encoded data removed]",
      "text/plain": [
       "<IPython.core.display.Image object>"
      ]
     },
     "metadata": {},
     "output_type": "display_data"
    }
   ],
   "source": [
    "display(Image(graph.get_graph(xray=True).draw_mermaid_png()))"
   ]
  },
  {
   "cell_type": "code",
   "execution_count": 38,
   "metadata": {},
   "outputs": [
    {
     "data": {
      "text/plain": [
       "{'messages': ['Hello']}"
      ]
     },
     "execution_count": 38,
     "metadata": {},
     "output_type": "execute_result"
    }
   ],
   "source": [
    "first_node=ReturnNodeValue(\"Hello\")\n",
    "first_node.__call__({'message':[]})\n"
   ]
  },
  {
   "cell_type": "code",
   "execution_count": 39,
   "metadata": {},
   "outputs": [
    {
     "data": {
      "text/plain": [
       "{'messages': ['world']}"
      ]
     },
     "execution_count": 39,
     "metadata": {},
     "output_type": "execute_result"
    }
   ],
   "source": [
    "second=ReturnNodeValue(\"world\")\n",
    "second.__call__({'messages': ['Hello']})"
   ]
  },
  {
   "cell_type": "markdown",
   "metadata": {},
   "source": [
    "## Example - 4"
   ]
  },
  {
   "cell_type": "code",
   "execution_count": 43,
   "metadata": {},
   "outputs": [
    {
     "name": "stdout",
     "output_type": "stream",
     "text": [
      "{'messages': [HumanMessage(content='What is the Capital City of Nepal?'), AIMessage(content='The capital city of Nepal is Kathmandu. It is the largest city in the country and serves as the political, cultural, and economic center of Nepal.', response_metadata={'token_usage': {'completion_tokens': 30, 'prompt_tokens': 15, 'total_tokens': 45}, 'model_name': 'gpt-4o', 'system_fingerprint': 'fp_18cc0f1fa0', 'finish_reason': 'stop', 'logprobs': None}, id='run-13171dff-c8db-4dc2-b699-d9eb5b7892d8-0'), HumanMessage(content='The capital city of Nepal is Kathmandu. It is the largest city in the country and serves as the political, cultural, and economic center of Nepal.')]}\n"
     ]
    }
   ],
   "source": [
    "import os\n",
    "from langchain_openai import ChatOpenAI\n",
    "from langchain_core.messages import HumanMessage\n",
    "from langchain_openai import ChatOpenAI\n",
    "import operator\n",
    "from typing import Annotated, TypedDict, List\n",
    "from langgraph.graph import StateGraph,  END\n",
    "from IPython.display import Image, display\n",
    "\n",
    "OPENAI_API_KEY=\"sk-xxx\" # provide your active openai api key and use other gpt models if you don't have access to gpt-4o model\n",
    "os.environ['OPENAI_API_KEY'] = OPENAI_API_KEY\n",
    "\n",
    "llm = ChatOpenAI(model='gpt-4o')\n",
    "\n",
    "# Define the State schema\n",
    "class State(TypedDict):\n",
    "    messages: Annotated[List[str], operator.add]\n",
    "\n",
    "# Create a StateGraph instance\n",
    "builder = StateGraph(State)\n",
    "\n",
    "def call_model(state):\n",
    "    #print(state)\n",
    "    messages = state['messages']\n",
    "    response = llm.invoke(messages)\n",
    "    return {\"messages\": [response]}\n",
    "\n",
    "def convert_human(state):\n",
    "    #print(state)\n",
    "    messages = state['messages']\n",
    "    messages = messages[-1] # taking last message\n",
    "    content = messages.content\n",
    "    response = HumanMessage(content=content)\n",
    "    return {\"messages\": [response]}\n",
    "\n",
    "# Add nodes to the graph\n",
    "builder.add_node(\"model_call\", call_model)\n",
    "builder.add_node(\"human_message\", convert_human)\n",
    "builder.set_entry_point(\"model_call\")\n",
    "\n",
    "builder.add_edge(\"model_call\", \"human_message\")\n",
    "builder.add_edge(\"human_message\", END)\n",
    "\n",
    "# Compile the graph\n",
    "graph = builder.compile()\n",
    "\n",
    "query=\"What is the Capital City of Nepal?\"\n",
    "input_message = {\"messages\": [HumanMessage(content=query)]}\n",
    "\n",
    "result = graph.invoke(input_message)\n",
    "\n",
    "print(result)\n",
    "\n"
   ]
  },
  {
   "cell_type": "code",
   "execution_count": 44,
   "metadata": {},
   "outputs": [
    {
     "data": {
      "image/jpeg": "[encoded data removed]",
      "text/plain": [
       "<IPython.core.display.Image object>"
      ]
     },
     "metadata": {},
     "output_type": "display_data"
    }
   ],
   "source": [
    "display(Image(graph.get_graph(xray=True).draw_mermaid_png()))\n"
   ]
  }
 ],
 "metadata": {
  "kernelspec": {
   "display_name": "langchain",
   "language": "python",
   "name": "python3"
  },
  "language_info": {
   "codemirror_mode": {
    "name": "ipython",
    "version": 3
   },
   "file_extension": ".py",
   "mimetype": "text/x-python",
   "name": "python",
   "nbconvert_exporter": "python",
   "pygments_lexer": "ipython3",
   "version": "3.12.2"
  }
 },
 "nbformat": 4,
 "nbformat_minor": 2
}

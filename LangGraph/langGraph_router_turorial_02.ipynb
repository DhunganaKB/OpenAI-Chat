{
 "cells": [
  {
   "cell_type": "markdown",
   "metadata": {},
   "source": [
    "## Example - No Branching. Try with StateGraph and MessageGraph. StateGraph is more powerful"
   ]
  },
  {
   "cell_type": "code",
   "execution_count": 1,
   "metadata": {},
   "outputs": [
    {
     "name": "stdout",
     "output_type": "stream",
     "text": [
      "[HumanMessage(content='who are you?', id='591093d0-27c2-46cb-b939-dbb787732b9a'), AIMessage(content='I am an artificial intelligence developed by OpenAI, designed to assist with answering questions, providing information, and engaging in various text-based tasks. How can I help you today?', response_metadata={'token_usage': {'completion_tokens': 35, 'prompt_tokens': 11, 'total_tokens': 46}, 'model_name': 'gpt-4o', 'system_fingerprint': 'fp_4e2b2da518', 'finish_reason': 'stop', 'logprobs': None}, id='run-1cf8068b-144a-4d8c-bd12-55b8ca351c60-0')]\n"
     ]
    },
    {
     "data": {
      "image/jpeg": "[encoded data removed]",
      "text/plain": [
       "<IPython.core.display.Image object>"
      ]
     },
     "metadata": {},
     "output_type": "display_data"
    }
   ],
   "source": [
    "import os\n",
    "from langchain_openai import ChatOpenAI\n",
    "from langchain_core.messages import HumanMessage,BaseMessage\n",
    "from langchain_openai import ChatOpenAI\n",
    "import operator\n",
    "from typing import Annotated, TypedDict, List\n",
    "from langgraph.graph import StateGraph, END, MessageGraph, START\n",
    "from IPython.display import Image, display\n",
    "\n",
    "OPENAI_API_KEY=\"sk-xxxx\" # https://platform.openai.com/account/api-keys\n",
    "os.environ['OPENAI_API_KEY'] = OPENAI_API_KEY\n",
    "\n",
    "llm = ChatOpenAI(model='gpt-4o')\n",
    "\n",
    "class State(TypedDict):\n",
    "    messages: Annotated[List[str], operator.add]\n",
    "\n",
    "#builder = StateGraph(State)\n",
    "builder = MessageGraph()\n",
    "\n",
    "# def call_llm(state):\n",
    "#     msg = state['messages']\n",
    "#     res = llm.invoke(msg)\n",
    "#     return {'messages':[res]}\n",
    "\n",
    "#builder.add_node(\"model\", call_llm)\n",
    "builder.add_node(\"model\", llm)\n",
    "\n",
    "builder.add_edge(\"model\", END)\n",
    "\n",
    "builder.add_edge(START, \"model\")\n",
    "\n",
    "graph = builder.compile()\n",
    "\n",
    "#result = graph.invoke({'messages':input_messages})\n",
    "result = graph.invoke([HumanMessage(content='who are you?')])\n",
    "print(result)\n",
    "#graph.invoke({'messages':['who are you?']})\n",
    "\n",
    "display(Image(graph.get_graph(xray=True).draw_mermaid_png()))\n"
   ]
  },
  {
   "cell_type": "markdown",
   "metadata": {},
   "source": [
    "## Example - Branching and Customized tools Implementation"
   ]
  },
  {
   "cell_type": "code",
   "execution_count": 2,
   "metadata": {},
   "outputs": [
    {
     "data": {
      "image/jpeg": "[encoded data removed]",
      "text/plain": [
       "<IPython.core.display.Image object>"
      ]
     },
     "metadata": {},
     "output_type": "display_data"
    }
   ],
   "source": [
    "import os\n",
    "import operator\n",
    "from langchain_core.tools import tool\n",
    "from langgraph.graph import END, START\n",
    "from langgraph.prebuilt import ToolNode\n",
    "from langchain_openai import ChatOpenAI\n",
    "from langchain_core.messages import HumanMessage,BaseMessage\n",
    "from langchain_openai import ChatOpenAI\n",
    "from typing import Annotated, TypedDict, List\n",
    "from langgraph.graph import StateGraph, END, MessageGraph, START\n",
    "from IPython.display import Image, display\n",
    "\n",
    "#OPENAI_API_KEY=\"xxxxxx\"\n",
    "os.environ['OPENAI_API_KEY'] = OPENAI_API_KEY\n",
    "\n",
    "@tool\n",
    "def multiply(first_number: int, second_number: int):\n",
    "    \"\"\"Multiplies two numbers together.\"\"\"\n",
    "    return first_number * second_number\n",
    "\n",
    "@tool\n",
    "def add(first_number: int, second_number: int) -> int:\n",
    "    \"\"\"Adds two numbers together.\"\"\"\n",
    "    return first_number + second_number\n",
    "\n",
    "tools = [multiply, add]\n",
    "\n",
    "model = ChatOpenAI(model='gpt-4o')\n",
    "\n",
    "model_with_tools = model.bind_tools(tools=tools)\n",
    "\n",
    "builder = MessageGraph()\n",
    "builder.add_node('model', model_with_tools)\n",
    "tool_node = ToolNode(tools)\n",
    "builder.add_node(\"action\", tool_node)\n",
    "builder.add_edge(START, \"model\")\n",
    "builder.add_edge(\"action\", END)\n",
    "\n",
    "def router(state: list[BaseMessage]):\n",
    "    tool_calls = state[-1].additional_kwargs.get(\"tool_calls\", [])\n",
    "    if len(tool_calls):\n",
    "        return \"action\"\n",
    "    else:\n",
    "        return END\n",
    "\n",
    "builder.add_conditional_edges(\"model\", router)\n",
    "\n",
    "graph = builder.compile()\n",
    "display(Image(graph.get_graph(xray=True).draw_mermaid_png()))"
   ]
  },
  {
   "cell_type": "markdown",
   "metadata": {},
   "source": [
    "#### question is related to multiplication, so the multiply tool was called during graph execution"
   ]
  },
  {
   "cell_type": "code",
   "execution_count": 4,
   "metadata": {},
   "outputs": [
    {
     "name": "stdout",
     "output_type": "stream",
     "text": [
      "[HumanMessage(content='What is 123 * 456?', id='c602c9bc-b602-4aa5-93df-61dcab581bac'), AIMessage(content='', additional_kwargs={'tool_calls': [{'id': 'call_CHuS4ResEuHKjEoHIaM4gOZ5', 'function': {'arguments': '{\"first_number\":123,\"second_number\":456}', 'name': 'multiply'}, 'type': 'function'}]}, response_metadata={'token_usage': {'completion_tokens': 19, 'prompt_tokens': 81, 'total_tokens': 100}, 'model_name': 'gpt-4o', 'system_fingerprint': 'fp_bc2a86f5f5', 'finish_reason': 'tool_calls', 'logprobs': None}, id='run-c891ddce-43b9-49da-a743-bc49a9a57eec-0', tool_calls=[{'name': 'multiply', 'args': {'first_number': 123, 'second_number': 456}, 'id': 'call_CHuS4ResEuHKjEoHIaM4gOZ5', 'type': 'tool_call'}]), ToolMessage(content='56088', name='multiply', id='63a6da07-725a-4550-b148-f39a916d4fba', tool_call_id='call_CHuS4ResEuHKjEoHIaM4gOZ5')]\n"
     ]
    }
   ],
   "source": [
    "result=graph.invoke(HumanMessage(\"What is 123 * 456?\"))\n",
    "print(result)\n"
   ]
  },
  {
   "cell_type": "markdown",
   "metadata": {},
   "source": [
    "#### question not related to tools: so no tool is invoked during graph execution"
   ]
  },
  {
   "cell_type": "code",
   "execution_count": 5,
   "metadata": {},
   "outputs": [
    {
     "data": {
      "text/plain": [
       "[HumanMessage(content='when did last olympics happen?', id='9d410f5f-b2d7-422a-b784-05356469c659'),\n",
       " AIMessage(content='The most recent Olympic Games were the Summer Olympics, which took place in Tokyo, Japan from July 23 to August 8, 2021.', response_metadata={'token_usage': {'completion_tokens': 31, 'prompt_tokens': 80, 'total_tokens': 111}, 'model_name': 'gpt-4o', 'system_fingerprint': 'fp_4e2b2da518', 'finish_reason': 'stop', 'logprobs': None}, id='run-b8fb45fc-caf7-47b7-be6c-5938bc8bc74e-0')]"
      ]
     },
     "execution_count": 5,
     "metadata": {},
     "output_type": "execute_result"
    }
   ],
   "source": [
    "result=graph.invoke(HumanMessage(\"when did last olympics happen?\"))\n",
    "result\n"
   ]
  },
  {
   "cell_type": "code",
   "execution_count": null,
   "metadata": {},
   "outputs": [],
   "source": []
  }
 ],
 "metadata": {
  "kernelspec": {
   "display_name": "langchain",
   "language": "python",
   "name": "python3"
  },
  "language_info": {
   "codemirror_mode": {
    "name": "ipython",
    "version": 3
   },
   "file_extension": ".py",
   "mimetype": "text/x-python",
   "name": "python",
   "nbconvert_exporter": "python",
   "pygments_lexer": "ipython3",
   "version": "3.12.2"
  }
 },
 "nbformat": 4,
 "nbformat_minor": 2
}
